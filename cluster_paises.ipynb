{
 "cells": [
  {
   "cell_type": "code",
   "execution_count": 17,
   "metadata": {},
   "outputs": [],
   "source": [
    "#%% Instalando os pacotes\n",
    "\n",
    "# !pip install pandas\n",
    "# !pip install numpy\n",
    "# !pip install matplotlib\n",
    "# !pip install seaborn\n",
    "# !pip install plotly\n",
    "# !pip install scipy\n",
    "# !pip install scikit-learn\n",
    "# !pip install pingouin\n",
    "\n",
    "#%% Importando os pacotes\n",
    "\n",
    "import pandas as pd\n",
    "import numpy as np\n",
    "import matplotlib.pyplot as plt\n",
    "import seaborn as sns\n",
    "import scipy.cluster.hierarchy as sch\n",
    "import scipy.stats as stats\n",
    "from scipy.stats import zscore\n",
    "from scipy.spatial.distance import pdist\n",
    "from sklearn.cluster import AgglomerativeClustering\n",
    "from sklearn.cluster import KMeans\n",
    "import pingouin as pg\n",
    "import plotly.express as px \n",
    "import plotly.graph_objects as go\n",
    "import plotly.io as pio\n",
    "# pio.renderers.default='browser'\n",
    "import warnings\n",
    "warnings.filterwarnings('ignore')\n",
    "from sklearn.metrics import silhouette_score"
   ]
  },
  {
   "cell_type": "code",
   "execution_count": 81,
   "metadata": {},
   "outputs": [
    {
     "data": {
      "text/html": [
       "<div>\n",
       "<style scoped>\n",
       "    .dataframe tbody tr th:only-of-type {\n",
       "        vertical-align: middle;\n",
       "    }\n",
       "\n",
       "    .dataframe tbody tr th {\n",
       "        vertical-align: top;\n",
       "    }\n",
       "\n",
       "    .dataframe thead th {\n",
       "        text-align: right;\n",
       "    }\n",
       "</style>\n",
       "<table border=\"1\" class=\"dataframe\">\n",
       "  <thead>\n",
       "    <tr style=\"text-align: right;\">\n",
       "      <th></th>\n",
       "      <th>country</th>\n",
       "      <th>child_mort</th>\n",
       "      <th>exports</th>\n",
       "      <th>health</th>\n",
       "      <th>imports</th>\n",
       "      <th>income</th>\n",
       "      <th>inflation</th>\n",
       "      <th>life_expec</th>\n",
       "      <th>total_fer</th>\n",
       "      <th>gdpp</th>\n",
       "    </tr>\n",
       "  </thead>\n",
       "  <tbody>\n",
       "    <tr>\n",
       "      <th>0</th>\n",
       "      <td>Afghanistan</td>\n",
       "      <td>90.2</td>\n",
       "      <td>10.0</td>\n",
       "      <td>7.58</td>\n",
       "      <td>44.9</td>\n",
       "      <td>1610</td>\n",
       "      <td>9.440</td>\n",
       "      <td>56.2</td>\n",
       "      <td>5.82</td>\n",
       "      <td>553</td>\n",
       "    </tr>\n",
       "    <tr>\n",
       "      <th>1</th>\n",
       "      <td>Albania</td>\n",
       "      <td>16.6</td>\n",
       "      <td>28.0</td>\n",
       "      <td>6.55</td>\n",
       "      <td>48.6</td>\n",
       "      <td>9930</td>\n",
       "      <td>4.490</td>\n",
       "      <td>76.3</td>\n",
       "      <td>1.65</td>\n",
       "      <td>4090</td>\n",
       "    </tr>\n",
       "    <tr>\n",
       "      <th>2</th>\n",
       "      <td>Algeria</td>\n",
       "      <td>27.3</td>\n",
       "      <td>38.4</td>\n",
       "      <td>4.17</td>\n",
       "      <td>31.4</td>\n",
       "      <td>12900</td>\n",
       "      <td>16.100</td>\n",
       "      <td>76.5</td>\n",
       "      <td>2.89</td>\n",
       "      <td>4460</td>\n",
       "    </tr>\n",
       "    <tr>\n",
       "      <th>3</th>\n",
       "      <td>Angola</td>\n",
       "      <td>119.0</td>\n",
       "      <td>62.3</td>\n",
       "      <td>2.85</td>\n",
       "      <td>42.9</td>\n",
       "      <td>5900</td>\n",
       "      <td>22.400</td>\n",
       "      <td>60.1</td>\n",
       "      <td>6.16</td>\n",
       "      <td>3530</td>\n",
       "    </tr>\n",
       "    <tr>\n",
       "      <th>4</th>\n",
       "      <td>Antigua and Barbuda</td>\n",
       "      <td>10.3</td>\n",
       "      <td>45.5</td>\n",
       "      <td>6.03</td>\n",
       "      <td>58.9</td>\n",
       "      <td>19100</td>\n",
       "      <td>1.440</td>\n",
       "      <td>76.8</td>\n",
       "      <td>2.13</td>\n",
       "      <td>12200</td>\n",
       "    </tr>\n",
       "    <tr>\n",
       "      <th>5</th>\n",
       "      <td>Argentina</td>\n",
       "      <td>14.5</td>\n",
       "      <td>18.9</td>\n",
       "      <td>8.10</td>\n",
       "      <td>16.0</td>\n",
       "      <td>18700</td>\n",
       "      <td>20.900</td>\n",
       "      <td>75.8</td>\n",
       "      <td>2.37</td>\n",
       "      <td>10300</td>\n",
       "    </tr>\n",
       "    <tr>\n",
       "      <th>6</th>\n",
       "      <td>Armenia</td>\n",
       "      <td>18.1</td>\n",
       "      <td>20.8</td>\n",
       "      <td>4.40</td>\n",
       "      <td>45.3</td>\n",
       "      <td>6700</td>\n",
       "      <td>7.770</td>\n",
       "      <td>73.3</td>\n",
       "      <td>1.69</td>\n",
       "      <td>3220</td>\n",
       "    </tr>\n",
       "    <tr>\n",
       "      <th>7</th>\n",
       "      <td>Australia</td>\n",
       "      <td>4.8</td>\n",
       "      <td>19.8</td>\n",
       "      <td>8.73</td>\n",
       "      <td>20.9</td>\n",
       "      <td>41400</td>\n",
       "      <td>1.160</td>\n",
       "      <td>82.0</td>\n",
       "      <td>1.93</td>\n",
       "      <td>51900</td>\n",
       "    </tr>\n",
       "    <tr>\n",
       "      <th>8</th>\n",
       "      <td>Austria</td>\n",
       "      <td>4.3</td>\n",
       "      <td>51.3</td>\n",
       "      <td>11.00</td>\n",
       "      <td>47.8</td>\n",
       "      <td>43200</td>\n",
       "      <td>0.873</td>\n",
       "      <td>80.5</td>\n",
       "      <td>1.44</td>\n",
       "      <td>46900</td>\n",
       "    </tr>\n",
       "    <tr>\n",
       "      <th>9</th>\n",
       "      <td>Azerbaijan</td>\n",
       "      <td>39.2</td>\n",
       "      <td>54.3</td>\n",
       "      <td>5.88</td>\n",
       "      <td>20.7</td>\n",
       "      <td>16000</td>\n",
       "      <td>13.800</td>\n",
       "      <td>69.1</td>\n",
       "      <td>1.92</td>\n",
       "      <td>5840</td>\n",
       "    </tr>\n",
       "  </tbody>\n",
       "</table>\n",
       "</div>"
      ],
      "text/plain": [
       "               country  child_mort  exports  health  imports  income  \\\n",
       "0          Afghanistan        90.2     10.0    7.58     44.9    1610   \n",
       "1              Albania        16.6     28.0    6.55     48.6    9930   \n",
       "2              Algeria        27.3     38.4    4.17     31.4   12900   \n",
       "3               Angola       119.0     62.3    2.85     42.9    5900   \n",
       "4  Antigua and Barbuda        10.3     45.5    6.03     58.9   19100   \n",
       "5            Argentina        14.5     18.9    8.10     16.0   18700   \n",
       "6              Armenia        18.1     20.8    4.40     45.3    6700   \n",
       "7            Australia         4.8     19.8    8.73     20.9   41400   \n",
       "8              Austria         4.3     51.3   11.00     47.8   43200   \n",
       "9           Azerbaijan        39.2     54.3    5.88     20.7   16000   \n",
       "\n",
       "   inflation  life_expec  total_fer   gdpp  \n",
       "0      9.440        56.2       5.82    553  \n",
       "1      4.490        76.3       1.65   4090  \n",
       "2     16.100        76.5       2.89   4460  \n",
       "3     22.400        60.1       6.16   3530  \n",
       "4      1.440        76.8       2.13  12200  \n",
       "5     20.900        75.8       2.37  10300  \n",
       "6      7.770        73.3       1.69   3220  \n",
       "7      1.160        82.0       1.93  51900  \n",
       "8      0.873        80.5       1.44  46900  \n",
       "9     13.800        69.1       1.92   5840  "
      ]
     },
     "metadata": {},
     "output_type": "display_data"
    },
    {
     "data": {
      "text/html": [
       "<div>\n",
       "<style scoped>\n",
       "    .dataframe tbody tr th:only-of-type {\n",
       "        vertical-align: middle;\n",
       "    }\n",
       "\n",
       "    .dataframe tbody tr th {\n",
       "        vertical-align: top;\n",
       "    }\n",
       "\n",
       "    .dataframe thead th {\n",
       "        text-align: right;\n",
       "    }\n",
       "</style>\n",
       "<table border=\"1\" class=\"dataframe\">\n",
       "  <thead>\n",
       "    <tr style=\"text-align: right;\">\n",
       "      <th></th>\n",
       "      <th>child_mort</th>\n",
       "      <th>exports</th>\n",
       "      <th>health</th>\n",
       "      <th>imports</th>\n",
       "      <th>income</th>\n",
       "      <th>inflation</th>\n",
       "      <th>life_expec</th>\n",
       "      <th>total_fer</th>\n",
       "      <th>gdpp</th>\n",
       "    </tr>\n",
       "  </thead>\n",
       "  <tbody>\n",
       "    <tr>\n",
       "      <th>count</th>\n",
       "      <td>167.000000</td>\n",
       "      <td>167.000000</td>\n",
       "      <td>167.000000</td>\n",
       "      <td>167.000000</td>\n",
       "      <td>167.000000</td>\n",
       "      <td>167.000000</td>\n",
       "      <td>167.000000</td>\n",
       "      <td>167.000000</td>\n",
       "      <td>167.000000</td>\n",
       "    </tr>\n",
       "    <tr>\n",
       "      <th>mean</th>\n",
       "      <td>38.270060</td>\n",
       "      <td>41.108976</td>\n",
       "      <td>6.815689</td>\n",
       "      <td>46.890215</td>\n",
       "      <td>17144.688623</td>\n",
       "      <td>7.781832</td>\n",
       "      <td>70.555689</td>\n",
       "      <td>2.947964</td>\n",
       "      <td>12964.155689</td>\n",
       "    </tr>\n",
       "    <tr>\n",
       "      <th>std</th>\n",
       "      <td>40.328931</td>\n",
       "      <td>27.412010</td>\n",
       "      <td>2.746837</td>\n",
       "      <td>24.209589</td>\n",
       "      <td>19278.067698</td>\n",
       "      <td>10.570704</td>\n",
       "      <td>8.893172</td>\n",
       "      <td>1.513848</td>\n",
       "      <td>18328.704809</td>\n",
       "    </tr>\n",
       "    <tr>\n",
       "      <th>min</th>\n",
       "      <td>2.600000</td>\n",
       "      <td>0.109000</td>\n",
       "      <td>1.810000</td>\n",
       "      <td>0.065900</td>\n",
       "      <td>609.000000</td>\n",
       "      <td>-4.210000</td>\n",
       "      <td>32.100000</td>\n",
       "      <td>1.150000</td>\n",
       "      <td>231.000000</td>\n",
       "    </tr>\n",
       "    <tr>\n",
       "      <th>25%</th>\n",
       "      <td>8.250000</td>\n",
       "      <td>23.800000</td>\n",
       "      <td>4.920000</td>\n",
       "      <td>30.200000</td>\n",
       "      <td>3355.000000</td>\n",
       "      <td>1.810000</td>\n",
       "      <td>65.300000</td>\n",
       "      <td>1.795000</td>\n",
       "      <td>1330.000000</td>\n",
       "    </tr>\n",
       "    <tr>\n",
       "      <th>50%</th>\n",
       "      <td>19.300000</td>\n",
       "      <td>35.000000</td>\n",
       "      <td>6.320000</td>\n",
       "      <td>43.300000</td>\n",
       "      <td>9960.000000</td>\n",
       "      <td>5.390000</td>\n",
       "      <td>73.100000</td>\n",
       "      <td>2.410000</td>\n",
       "      <td>4660.000000</td>\n",
       "    </tr>\n",
       "    <tr>\n",
       "      <th>75%</th>\n",
       "      <td>62.100000</td>\n",
       "      <td>51.350000</td>\n",
       "      <td>8.600000</td>\n",
       "      <td>58.750000</td>\n",
       "      <td>22800.000000</td>\n",
       "      <td>10.750000</td>\n",
       "      <td>76.800000</td>\n",
       "      <td>3.880000</td>\n",
       "      <td>14050.000000</td>\n",
       "    </tr>\n",
       "    <tr>\n",
       "      <th>max</th>\n",
       "      <td>208.000000</td>\n",
       "      <td>200.000000</td>\n",
       "      <td>17.900000</td>\n",
       "      <td>174.000000</td>\n",
       "      <td>125000.000000</td>\n",
       "      <td>104.000000</td>\n",
       "      <td>82.800000</td>\n",
       "      <td>7.490000</td>\n",
       "      <td>105000.000000</td>\n",
       "    </tr>\n",
       "  </tbody>\n",
       "</table>\n",
       "</div>"
      ],
      "text/plain": [
       "       child_mort     exports      health     imports         income  \\\n",
       "count  167.000000  167.000000  167.000000  167.000000     167.000000   \n",
       "mean    38.270060   41.108976    6.815689   46.890215   17144.688623   \n",
       "std     40.328931   27.412010    2.746837   24.209589   19278.067698   \n",
       "min      2.600000    0.109000    1.810000    0.065900     609.000000   \n",
       "25%      8.250000   23.800000    4.920000   30.200000    3355.000000   \n",
       "50%     19.300000   35.000000    6.320000   43.300000    9960.000000   \n",
       "75%     62.100000   51.350000    8.600000   58.750000   22800.000000   \n",
       "max    208.000000  200.000000   17.900000  174.000000  125000.000000   \n",
       "\n",
       "        inflation  life_expec   total_fer           gdpp  \n",
       "count  167.000000  167.000000  167.000000     167.000000  \n",
       "mean     7.781832   70.555689    2.947964   12964.155689  \n",
       "std     10.570704    8.893172    1.513848   18328.704809  \n",
       "min     -4.210000   32.100000    1.150000     231.000000  \n",
       "25%      1.810000   65.300000    1.795000    1330.000000  \n",
       "50%      5.390000   73.100000    2.410000    4660.000000  \n",
       "75%     10.750000   76.800000    3.880000   14050.000000  \n",
       "max    104.000000   82.800000    7.490000  105000.000000  "
      ]
     },
     "metadata": {},
     "output_type": "display_data"
    }
   ],
   "source": [
    "#%% Importando o banco de dados\n",
    "\n",
    "dados_paises = pd.read_csv('dados_paises.csv')\n",
    "## Fonte: https://www.kaggle.com/datasets/rohan0301/unsupervised-learning-on-country-data\n",
    "\n",
    "#%% Visualizando informações sobre os dados e variáveis\n",
    "\n",
    "# Estatísticas descritivas das variáveis\n",
    "\n",
    "display(dados_paises.head(10))\n",
    "\n",
    "tab_desc = dados_paises.describe()\n",
    "\n",
    "display(tab_desc)"
   ]
  },
  {
   "cell_type": "code",
   "execution_count": 3,
   "metadata": {},
   "outputs": [
    {
     "data": {
      "text/html": [
       "<div>\n",
       "<style scoped>\n",
       "    .dataframe tbody tr th:only-of-type {\n",
       "        vertical-align: middle;\n",
       "    }\n",
       "\n",
       "    .dataframe tbody tr th {\n",
       "        vertical-align: top;\n",
       "    }\n",
       "\n",
       "    .dataframe thead th {\n",
       "        text-align: right;\n",
       "    }\n",
       "</style>\n",
       "<table border=\"1\" class=\"dataframe\">\n",
       "  <thead>\n",
       "    <tr style=\"text-align: right;\">\n",
       "      <th></th>\n",
       "      <th>child_mort</th>\n",
       "      <th>exports</th>\n",
       "      <th>health</th>\n",
       "      <th>imports</th>\n",
       "      <th>income</th>\n",
       "      <th>inflation</th>\n",
       "      <th>life_expec</th>\n",
       "      <th>total_fer</th>\n",
       "      <th>gdpp</th>\n",
       "    </tr>\n",
       "  </thead>\n",
       "  <tbody>\n",
       "    <tr>\n",
       "      <th>child_mort</th>\n",
       "      <td>-</td>\n",
       "      <td>***</td>\n",
       "      <td>***</td>\n",
       "      <td></td>\n",
       "      <td>***</td>\n",
       "      <td>***</td>\n",
       "      <td>***</td>\n",
       "      <td>***</td>\n",
       "      <td>***</td>\n",
       "    </tr>\n",
       "    <tr>\n",
       "      <th>exports</th>\n",
       "      <td>-0.3181</td>\n",
       "      <td>-</td>\n",
       "      <td></td>\n",
       "      <td>***</td>\n",
       "      <td>***</td>\n",
       "      <td></td>\n",
       "      <td>***</td>\n",
       "      <td>***</td>\n",
       "      <td>***</td>\n",
       "    </tr>\n",
       "    <tr>\n",
       "      <th>health</th>\n",
       "      <td>-0.2004</td>\n",
       "      <td>-0.1144</td>\n",
       "      <td>-</td>\n",
       "      <td></td>\n",
       "      <td>*</td>\n",
       "      <td>***</td>\n",
       "      <td>***</td>\n",
       "      <td>**</td>\n",
       "      <td>***</td>\n",
       "    </tr>\n",
       "    <tr>\n",
       "      <th>imports</th>\n",
       "      <td>-0.1272</td>\n",
       "      <td>0.7374</td>\n",
       "      <td>0.0957</td>\n",
       "      <td>-</td>\n",
       "      <td></td>\n",
       "      <td>***</td>\n",
       "      <td></td>\n",
       "      <td>**</td>\n",
       "      <td></td>\n",
       "    </tr>\n",
       "    <tr>\n",
       "      <th>income</th>\n",
       "      <td>-0.5243</td>\n",
       "      <td>0.5168</td>\n",
       "      <td>0.1296</td>\n",
       "      <td>0.1224</td>\n",
       "      <td>-</td>\n",
       "      <td>*</td>\n",
       "      <td>***</td>\n",
       "      <td>***</td>\n",
       "      <td>***</td>\n",
       "    </tr>\n",
       "    <tr>\n",
       "      <th>inflation</th>\n",
       "      <td>0.2883</td>\n",
       "      <td>-0.1073</td>\n",
       "      <td>-0.2554</td>\n",
       "      <td>-0.247</td>\n",
       "      <td>-0.1478</td>\n",
       "      <td>-</td>\n",
       "      <td>***</td>\n",
       "      <td>***</td>\n",
       "      <td>***</td>\n",
       "    </tr>\n",
       "    <tr>\n",
       "      <th>life_expec</th>\n",
       "      <td>-0.8867</td>\n",
       "      <td>0.3163</td>\n",
       "      <td>0.2107</td>\n",
       "      <td>0.0544</td>\n",
       "      <td>0.612</td>\n",
       "      <td>-0.2397</td>\n",
       "      <td>-</td>\n",
       "      <td>***</td>\n",
       "      <td>***</td>\n",
       "    </tr>\n",
       "    <tr>\n",
       "      <th>total_fer</th>\n",
       "      <td>0.8485</td>\n",
       "      <td>-0.32</td>\n",
       "      <td>-0.1967</td>\n",
       "      <td>-0.159</td>\n",
       "      <td>-0.5018</td>\n",
       "      <td>0.3169</td>\n",
       "      <td>-0.7609</td>\n",
       "      <td>-</td>\n",
       "      <td>***</td>\n",
       "    </tr>\n",
       "    <tr>\n",
       "      <th>gdpp</th>\n",
       "      <td>-0.483</td>\n",
       "      <td>0.4187</td>\n",
       "      <td>0.346</td>\n",
       "      <td>0.1155</td>\n",
       "      <td>0.8956</td>\n",
       "      <td>-0.2216</td>\n",
       "      <td>0.6001</td>\n",
       "      <td>-0.4549</td>\n",
       "      <td>-</td>\n",
       "    </tr>\n",
       "  </tbody>\n",
       "</table>\n",
       "</div>"
      ],
      "text/plain": [
       "           child_mort  exports   health imports   income inflation life_expec  \\\n",
       "child_mort          -      ***      ***              ***       ***        ***   \n",
       "exports       -0.3181        -              ***      ***                  ***   \n",
       "health        -0.2004  -0.1144        -                *       ***        ***   \n",
       "imports       -0.1272   0.7374   0.0957       -                ***              \n",
       "income        -0.5243   0.5168   0.1296  0.1224        -         *        ***   \n",
       "inflation      0.2883  -0.1073  -0.2554  -0.247  -0.1478         -        ***   \n",
       "life_expec    -0.8867   0.3163   0.2107  0.0544    0.612   -0.2397          -   \n",
       "total_fer      0.8485    -0.32  -0.1967  -0.159  -0.5018    0.3169    -0.7609   \n",
       "gdpp           -0.483   0.4187    0.346  0.1155   0.8956   -0.2216     0.6001   \n",
       "\n",
       "           total_fer gdpp  \n",
       "child_mort       ***  ***  \n",
       "exports          ***  ***  \n",
       "health            **  ***  \n",
       "imports           **       \n",
       "income           ***  ***  \n",
       "inflation        ***  ***  \n",
       "life_expec       ***  ***  \n",
       "total_fer          -  ***  \n",
       "gdpp         -0.4549    -  "
      ]
     },
     "metadata": {},
     "output_type": "display_data"
    },
    {
     "data": {
      "text/html": [
       "<div>\n",
       "<style scoped>\n",
       "    .dataframe tbody tr th:only-of-type {\n",
       "        vertical-align: middle;\n",
       "    }\n",
       "\n",
       "    .dataframe tbody tr th {\n",
       "        vertical-align: top;\n",
       "    }\n",
       "\n",
       "    .dataframe thead th {\n",
       "        text-align: right;\n",
       "    }\n",
       "</style>\n",
       "<table border=\"1\" class=\"dataframe\">\n",
       "  <thead>\n",
       "    <tr style=\"text-align: right;\">\n",
       "      <th></th>\n",
       "      <th>child_mort</th>\n",
       "      <th>exports</th>\n",
       "      <th>health</th>\n",
       "      <th>imports</th>\n",
       "      <th>income</th>\n",
       "      <th>inflation</th>\n",
       "      <th>life_expec</th>\n",
       "      <th>total_fer</th>\n",
       "      <th>gdpp</th>\n",
       "    </tr>\n",
       "  </thead>\n",
       "  <tbody>\n",
       "    <tr>\n",
       "      <th>child_mort</th>\n",
       "      <td>1.000000</td>\n",
       "      <td>-0.318093</td>\n",
       "      <td>-0.200402</td>\n",
       "      <td>-0.127211</td>\n",
       "      <td>-0.524315</td>\n",
       "      <td>0.288276</td>\n",
       "      <td>-0.886676</td>\n",
       "      <td>0.848478</td>\n",
       "      <td>-0.483032</td>\n",
       "    </tr>\n",
       "    <tr>\n",
       "      <th>exports</th>\n",
       "      <td>-0.318093</td>\n",
       "      <td>1.000000</td>\n",
       "      <td>-0.114408</td>\n",
       "      <td>0.737381</td>\n",
       "      <td>0.516784</td>\n",
       "      <td>-0.107294</td>\n",
       "      <td>0.316313</td>\n",
       "      <td>-0.320011</td>\n",
       "      <td>0.418725</td>\n",
       "    </tr>\n",
       "    <tr>\n",
       "      <th>health</th>\n",
       "      <td>-0.200402</td>\n",
       "      <td>-0.114408</td>\n",
       "      <td>1.000000</td>\n",
       "      <td>0.095717</td>\n",
       "      <td>0.129579</td>\n",
       "      <td>-0.255376</td>\n",
       "      <td>0.210692</td>\n",
       "      <td>-0.196674</td>\n",
       "      <td>0.345966</td>\n",
       "    </tr>\n",
       "    <tr>\n",
       "      <th>imports</th>\n",
       "      <td>-0.127211</td>\n",
       "      <td>0.737381</td>\n",
       "      <td>0.095717</td>\n",
       "      <td>1.000000</td>\n",
       "      <td>0.122406</td>\n",
       "      <td>-0.246994</td>\n",
       "      <td>0.054391</td>\n",
       "      <td>-0.159048</td>\n",
       "      <td>0.115498</td>\n",
       "    </tr>\n",
       "    <tr>\n",
       "      <th>income</th>\n",
       "      <td>-0.524315</td>\n",
       "      <td>0.516784</td>\n",
       "      <td>0.129579</td>\n",
       "      <td>0.122406</td>\n",
       "      <td>1.000000</td>\n",
       "      <td>-0.147756</td>\n",
       "      <td>0.611962</td>\n",
       "      <td>-0.501840</td>\n",
       "      <td>0.895571</td>\n",
       "    </tr>\n",
       "    <tr>\n",
       "      <th>inflation</th>\n",
       "      <td>0.288276</td>\n",
       "      <td>-0.107294</td>\n",
       "      <td>-0.255376</td>\n",
       "      <td>-0.246994</td>\n",
       "      <td>-0.147756</td>\n",
       "      <td>1.000000</td>\n",
       "      <td>-0.239705</td>\n",
       "      <td>0.316921</td>\n",
       "      <td>-0.221631</td>\n",
       "    </tr>\n",
       "    <tr>\n",
       "      <th>life_expec</th>\n",
       "      <td>-0.886676</td>\n",
       "      <td>0.316313</td>\n",
       "      <td>0.210692</td>\n",
       "      <td>0.054391</td>\n",
       "      <td>0.611962</td>\n",
       "      <td>-0.239705</td>\n",
       "      <td>1.000000</td>\n",
       "      <td>-0.760875</td>\n",
       "      <td>0.600089</td>\n",
       "    </tr>\n",
       "    <tr>\n",
       "      <th>total_fer</th>\n",
       "      <td>0.848478</td>\n",
       "      <td>-0.320011</td>\n",
       "      <td>-0.196674</td>\n",
       "      <td>-0.159048</td>\n",
       "      <td>-0.501840</td>\n",
       "      <td>0.316921</td>\n",
       "      <td>-0.760875</td>\n",
       "      <td>1.000000</td>\n",
       "      <td>-0.454910</td>\n",
       "    </tr>\n",
       "    <tr>\n",
       "      <th>gdpp</th>\n",
       "      <td>-0.483032</td>\n",
       "      <td>0.418725</td>\n",
       "      <td>0.345966</td>\n",
       "      <td>0.115498</td>\n",
       "      <td>0.895571</td>\n",
       "      <td>-0.221631</td>\n",
       "      <td>0.600089</td>\n",
       "      <td>-0.454910</td>\n",
       "      <td>1.000000</td>\n",
       "    </tr>\n",
       "  </tbody>\n",
       "</table>\n",
       "</div>"
      ],
      "text/plain": [
       "            child_mort   exports    health   imports    income  inflation  \\\n",
       "child_mort    1.000000 -0.318093 -0.200402 -0.127211 -0.524315   0.288276   \n",
       "exports      -0.318093  1.000000 -0.114408  0.737381  0.516784  -0.107294   \n",
       "health       -0.200402 -0.114408  1.000000  0.095717  0.129579  -0.255376   \n",
       "imports      -0.127211  0.737381  0.095717  1.000000  0.122406  -0.246994   \n",
       "income       -0.524315  0.516784  0.129579  0.122406  1.000000  -0.147756   \n",
       "inflation     0.288276 -0.107294 -0.255376 -0.246994 -0.147756   1.000000   \n",
       "life_expec   -0.886676  0.316313  0.210692  0.054391  0.611962  -0.239705   \n",
       "total_fer     0.848478 -0.320011 -0.196674 -0.159048 -0.501840   0.316921   \n",
       "gdpp         -0.483032  0.418725  0.345966  0.115498  0.895571  -0.221631   \n",
       "\n",
       "            life_expec  total_fer      gdpp  \n",
       "child_mort   -0.886676   0.848478 -0.483032  \n",
       "exports       0.316313  -0.320011  0.418725  \n",
       "health        0.210692  -0.196674  0.345966  \n",
       "imports       0.054391  -0.159048  0.115498  \n",
       "income        0.611962  -0.501840  0.895571  \n",
       "inflation    -0.239705   0.316921 -0.221631  \n",
       "life_expec    1.000000  -0.760875  0.600089  \n",
       "total_fer    -0.760875   1.000000 -0.454910  \n",
       "gdpp          0.600089  -0.454910  1.000000  "
      ]
     },
     "metadata": {},
     "output_type": "display_data"
    }
   ],
   "source": [
    "# Matriz de correlações das variáveis\n",
    "\n",
    "# Vamos remover a coluna \"country\", pois é apenas um id\n",
    "paises = dados_paises.drop(columns=['country'])\n",
    "\n",
    "# Gerando a matriz de correlações de Pearson\n",
    "matriz_corr = pg.rcorr(paises, method = 'pearson', upper = 'pval', \n",
    "                       decimals = 4, \n",
    "                       pval_stars = {0.01: '***', 0.05: '**', 0.10: '*'})\n",
    "\n",
    "display(matriz_corr)\n",
    "#%% Mapa de calor indicando a correlação entre os atributos\n",
    "\n",
    "# Matriz de correlações básica\n",
    "corr = paises.corr()\n",
    "\n",
    "display(corr)"
   ]
  },
  {
   "cell_type": "code",
   "execution_count": 82,
   "metadata": {},
   "outputs": [
    {
     "data": {
      "application/vnd.plotly.v1+json": {
       "config": {
        "plotlyServerURL": "https://plot.ly"
       },
       "data": [
        {
         "colorscale": [
          [
           0,
           "rgb(247,252,245)"
          ],
          [
           0.125,
           "rgb(229,245,224)"
          ],
          [
           0.25,
           "rgb(199,233,192)"
          ],
          [
           0.375,
           "rgb(161,217,155)"
          ],
          [
           0.5,
           "rgb(116,196,118)"
          ],
          [
           0.625,
           "rgb(65,171,93)"
          ],
          [
           0.75,
           "rgb(35,139,69)"
          ],
          [
           0.875,
           "rgb(0,109,44)"
          ],
          [
           1,
           "rgb(0,68,27)"
          ]
         ],
         "text": [
          [
           1,
           -0.31809322264494905,
           -0.20040205881029746,
           -0.12721091993876057,
           -0.5243150164994345,
           0.2882761680227145,
           -0.8866760973367771,
           0.8484781105566707,
           -0.48303216621678186
          ],
          [
           -0.31809322264494905,
           1,
           -0.11440840246461274,
           0.7373808339554994,
           0.5167836027021384,
           -0.10729439255194576,
           0.31631260495547986,
           -0.3200105500358079,
           0.4187247510013237
          ],
          [
           -0.20040205881029746,
           -0.11440840246461274,
           1,
           0.09571667808670582,
           0.1295786050493511,
           -0.25537579284391076,
           0.21069212144020816,
           -0.19667398827210897,
           0.3459655251954038
          ],
          [
           -0.12721091993876057,
           0.7373808339554994,
           0.09571667808670582,
           1,
           0.12240624865259918,
           -0.24699427949656466,
           0.054390534928787225,
           -0.1590484337820177,
           0.11549816977950136
          ],
          [
           -0.5243150164994345,
           0.5167836027021384,
           0.1295786050493511,
           0.12240624865259918,
           1,
           -0.14775599560926253,
           0.6119624680973176,
           -0.5018400532297548,
           0.895571433087531
          ],
          [
           0.2882761680227145,
           -0.10729439255194576,
           -0.25537579284391076,
           -0.24699427949656466,
           -0.14775599560926253,
           1,
           -0.2397049629576343,
           0.3169210715383263,
           -0.22163105810153874
          ],
          [
           -0.8866760973367771,
           0.31631260495547986,
           0.21069212144020816,
           0.054390534928787225,
           0.6119624680973176,
           -0.2397049629576343,
           1,
           -0.7608746874349646,
           0.6000891345742055
          ],
          [
           0.8484781105566707,
           -0.3200105500358079,
           -0.19667398827210897,
           -0.1590484337820177,
           -0.5018400532297548,
           0.3169210715383263,
           -0.7608746874349646,
           1,
           -0.45491026725571565
          ],
          [
           -0.48303216621678186,
           0.4187247510013237,
           0.3459655251954038,
           0.11549816977950136,
           0.895571433087531,
           -0.22163105810153874,
           0.6000891345742055,
           -0.45491026725571565,
           1
          ]
         ],
         "texttemplate": "%{text:.2f}",
         "type": "heatmap",
         "x": [
          "child_mort",
          "exports",
          "health",
          "imports",
          "income",
          "inflation",
          "life_expec",
          "total_fer",
          "gdpp"
         ],
         "y": [
          "child_mort",
          "exports",
          "health",
          "imports",
          "income",
          "inflation",
          "life_expec",
          "total_fer",
          "gdpp"
         ],
         "z": [
          [
           1,
           -0.31809322264494905,
           -0.20040205881029746,
           -0.12721091993876057,
           -0.5243150164994345,
           0.2882761680227145,
           -0.8866760973367771,
           0.8484781105566707,
           -0.48303216621678186
          ],
          [
           -0.31809322264494905,
           1,
           -0.11440840246461274,
           0.7373808339554994,
           0.5167836027021384,
           -0.10729439255194576,
           0.31631260495547986,
           -0.3200105500358079,
           0.4187247510013237
          ],
          [
           -0.20040205881029746,
           -0.11440840246461274,
           1,
           0.09571667808670582,
           0.1295786050493511,
           -0.25537579284391076,
           0.21069212144020816,
           -0.19667398827210897,
           0.3459655251954038
          ],
          [
           -0.12721091993876057,
           0.7373808339554994,
           0.09571667808670582,
           1,
           0.12240624865259918,
           -0.24699427949656466,
           0.054390534928787225,
           -0.1590484337820177,
           0.11549816977950136
          ],
          [
           -0.5243150164994345,
           0.5167836027021384,
           0.1295786050493511,
           0.12240624865259918,
           1,
           -0.14775599560926253,
           0.6119624680973176,
           -0.5018400532297548,
           0.895571433087531
          ],
          [
           0.2882761680227145,
           -0.10729439255194576,
           -0.25537579284391076,
           -0.24699427949656466,
           -0.14775599560926253,
           1,
           -0.2397049629576343,
           0.3169210715383263,
           -0.22163105810153874
          ],
          [
           -0.8866760973367771,
           0.31631260495547986,
           0.21069212144020816,
           0.054390534928787225,
           0.6119624680973176,
           -0.2397049629576343,
           1,
           -0.7608746874349646,
           0.6000891345742055
          ],
          [
           0.8484781105566707,
           -0.3200105500358079,
           -0.19667398827210897,
           -0.1590484337820177,
           -0.5018400532297548,
           0.3169210715383263,
           -0.7608746874349646,
           1,
           -0.45491026725571565
          ],
          [
           -0.48303216621678186,
           0.4187247510013237,
           0.3459655251954038,
           0.11549816977950136,
           0.895571433087531,
           -0.22163105810153874,
           0.6000891345742055,
           -0.45491026725571565,
           1
          ]
         ]
        }
       ],
       "layout": {
        "height": 600,
        "template": {
         "data": {
          "bar": [
           {
            "error_x": {
             "color": "#2a3f5f"
            },
            "error_y": {
             "color": "#2a3f5f"
            },
            "marker": {
             "line": {
              "color": "#E5ECF6",
              "width": 0.5
             },
             "pattern": {
              "fillmode": "overlay",
              "size": 10,
              "solidity": 0.2
             }
            },
            "type": "bar"
           }
          ],
          "barpolar": [
           {
            "marker": {
             "line": {
              "color": "#E5ECF6",
              "width": 0.5
             },
             "pattern": {
              "fillmode": "overlay",
              "size": 10,
              "solidity": 0.2
             }
            },
            "type": "barpolar"
           }
          ],
          "carpet": [
           {
            "aaxis": {
             "endlinecolor": "#2a3f5f",
             "gridcolor": "white",
             "linecolor": "white",
             "minorgridcolor": "white",
             "startlinecolor": "#2a3f5f"
            },
            "baxis": {
             "endlinecolor": "#2a3f5f",
             "gridcolor": "white",
             "linecolor": "white",
             "minorgridcolor": "white",
             "startlinecolor": "#2a3f5f"
            },
            "type": "carpet"
           }
          ],
          "choropleth": [
           {
            "colorbar": {
             "outlinewidth": 0,
             "ticks": ""
            },
            "type": "choropleth"
           }
          ],
          "contour": [
           {
            "colorbar": {
             "outlinewidth": 0,
             "ticks": ""
            },
            "colorscale": [
             [
              0,
              "#0d0887"
             ],
             [
              0.1111111111111111,
              "#46039f"
             ],
             [
              0.2222222222222222,
              "#7201a8"
             ],
             [
              0.3333333333333333,
              "#9c179e"
             ],
             [
              0.4444444444444444,
              "#bd3786"
             ],
             [
              0.5555555555555556,
              "#d8576b"
             ],
             [
              0.6666666666666666,
              "#ed7953"
             ],
             [
              0.7777777777777778,
              "#fb9f3a"
             ],
             [
              0.8888888888888888,
              "#fdca26"
             ],
             [
              1,
              "#f0f921"
             ]
            ],
            "type": "contour"
           }
          ],
          "contourcarpet": [
           {
            "colorbar": {
             "outlinewidth": 0,
             "ticks": ""
            },
            "type": "contourcarpet"
           }
          ],
          "heatmap": [
           {
            "colorbar": {
             "outlinewidth": 0,
             "ticks": ""
            },
            "colorscale": [
             [
              0,
              "#0d0887"
             ],
             [
              0.1111111111111111,
              "#46039f"
             ],
             [
              0.2222222222222222,
              "#7201a8"
             ],
             [
              0.3333333333333333,
              "#9c179e"
             ],
             [
              0.4444444444444444,
              "#bd3786"
             ],
             [
              0.5555555555555556,
              "#d8576b"
             ],
             [
              0.6666666666666666,
              "#ed7953"
             ],
             [
              0.7777777777777778,
              "#fb9f3a"
             ],
             [
              0.8888888888888888,
              "#fdca26"
             ],
             [
              1,
              "#f0f921"
             ]
            ],
            "type": "heatmap"
           }
          ],
          "heatmapgl": [
           {
            "colorbar": {
             "outlinewidth": 0,
             "ticks": ""
            },
            "colorscale": [
             [
              0,
              "#0d0887"
             ],
             [
              0.1111111111111111,
              "#46039f"
             ],
             [
              0.2222222222222222,
              "#7201a8"
             ],
             [
              0.3333333333333333,
              "#9c179e"
             ],
             [
              0.4444444444444444,
              "#bd3786"
             ],
             [
              0.5555555555555556,
              "#d8576b"
             ],
             [
              0.6666666666666666,
              "#ed7953"
             ],
             [
              0.7777777777777778,
              "#fb9f3a"
             ],
             [
              0.8888888888888888,
              "#fdca26"
             ],
             [
              1,
              "#f0f921"
             ]
            ],
            "type": "heatmapgl"
           }
          ],
          "histogram": [
           {
            "marker": {
             "pattern": {
              "fillmode": "overlay",
              "size": 10,
              "solidity": 0.2
             }
            },
            "type": "histogram"
           }
          ],
          "histogram2d": [
           {
            "colorbar": {
             "outlinewidth": 0,
             "ticks": ""
            },
            "colorscale": [
             [
              0,
              "#0d0887"
             ],
             [
              0.1111111111111111,
              "#46039f"
             ],
             [
              0.2222222222222222,
              "#7201a8"
             ],
             [
              0.3333333333333333,
              "#9c179e"
             ],
             [
              0.4444444444444444,
              "#bd3786"
             ],
             [
              0.5555555555555556,
              "#d8576b"
             ],
             [
              0.6666666666666666,
              "#ed7953"
             ],
             [
              0.7777777777777778,
              "#fb9f3a"
             ],
             [
              0.8888888888888888,
              "#fdca26"
             ],
             [
              1,
              "#f0f921"
             ]
            ],
            "type": "histogram2d"
           }
          ],
          "histogram2dcontour": [
           {
            "colorbar": {
             "outlinewidth": 0,
             "ticks": ""
            },
            "colorscale": [
             [
              0,
              "#0d0887"
             ],
             [
              0.1111111111111111,
              "#46039f"
             ],
             [
              0.2222222222222222,
              "#7201a8"
             ],
             [
              0.3333333333333333,
              "#9c179e"
             ],
             [
              0.4444444444444444,
              "#bd3786"
             ],
             [
              0.5555555555555556,
              "#d8576b"
             ],
             [
              0.6666666666666666,
              "#ed7953"
             ],
             [
              0.7777777777777778,
              "#fb9f3a"
             ],
             [
              0.8888888888888888,
              "#fdca26"
             ],
             [
              1,
              "#f0f921"
             ]
            ],
            "type": "histogram2dcontour"
           }
          ],
          "mesh3d": [
           {
            "colorbar": {
             "outlinewidth": 0,
             "ticks": ""
            },
            "type": "mesh3d"
           }
          ],
          "parcoords": [
           {
            "line": {
             "colorbar": {
              "outlinewidth": 0,
              "ticks": ""
             }
            },
            "type": "parcoords"
           }
          ],
          "pie": [
           {
            "automargin": true,
            "type": "pie"
           }
          ],
          "scatter": [
           {
            "fillpattern": {
             "fillmode": "overlay",
             "size": 10,
             "solidity": 0.2
            },
            "type": "scatter"
           }
          ],
          "scatter3d": [
           {
            "line": {
             "colorbar": {
              "outlinewidth": 0,
              "ticks": ""
             }
            },
            "marker": {
             "colorbar": {
              "outlinewidth": 0,
              "ticks": ""
             }
            },
            "type": "scatter3d"
           }
          ],
          "scattercarpet": [
           {
            "marker": {
             "colorbar": {
              "outlinewidth": 0,
              "ticks": ""
             }
            },
            "type": "scattercarpet"
           }
          ],
          "scattergeo": [
           {
            "marker": {
             "colorbar": {
              "outlinewidth": 0,
              "ticks": ""
             }
            },
            "type": "scattergeo"
           }
          ],
          "scattergl": [
           {
            "marker": {
             "colorbar": {
              "outlinewidth": 0,
              "ticks": ""
             }
            },
            "type": "scattergl"
           }
          ],
          "scattermapbox": [
           {
            "marker": {
             "colorbar": {
              "outlinewidth": 0,
              "ticks": ""
             }
            },
            "type": "scattermapbox"
           }
          ],
          "scatterpolar": [
           {
            "marker": {
             "colorbar": {
              "outlinewidth": 0,
              "ticks": ""
             }
            },
            "type": "scatterpolar"
           }
          ],
          "scatterpolargl": [
           {
            "marker": {
             "colorbar": {
              "outlinewidth": 0,
              "ticks": ""
             }
            },
            "type": "scatterpolargl"
           }
          ],
          "scatterternary": [
           {
            "marker": {
             "colorbar": {
              "outlinewidth": 0,
              "ticks": ""
             }
            },
            "type": "scatterternary"
           }
          ],
          "surface": [
           {
            "colorbar": {
             "outlinewidth": 0,
             "ticks": ""
            },
            "colorscale": [
             [
              0,
              "#0d0887"
             ],
             [
              0.1111111111111111,
              "#46039f"
             ],
             [
              0.2222222222222222,
              "#7201a8"
             ],
             [
              0.3333333333333333,
              "#9c179e"
             ],
             [
              0.4444444444444444,
              "#bd3786"
             ],
             [
              0.5555555555555556,
              "#d8576b"
             ],
             [
              0.6666666666666666,
              "#ed7953"
             ],
             [
              0.7777777777777778,
              "#fb9f3a"
             ],
             [
              0.8888888888888888,
              "#fdca26"
             ],
             [
              1,
              "#f0f921"
             ]
            ],
            "type": "surface"
           }
          ],
          "table": [
           {
            "cells": {
             "fill": {
              "color": "#EBF0F8"
             },
             "line": {
              "color": "white"
             }
            },
            "header": {
             "fill": {
              "color": "#C8D4E3"
             },
             "line": {
              "color": "white"
             }
            },
            "type": "table"
           }
          ]
         },
         "layout": {
          "annotationdefaults": {
           "arrowcolor": "#2a3f5f",
           "arrowhead": 0,
           "arrowwidth": 1
          },
          "autotypenumbers": "strict",
          "coloraxis": {
           "colorbar": {
            "outlinewidth": 0,
            "ticks": ""
           }
          },
          "colorscale": {
           "diverging": [
            [
             0,
             "#8e0152"
            ],
            [
             0.1,
             "#c51b7d"
            ],
            [
             0.2,
             "#de77ae"
            ],
            [
             0.3,
             "#f1b6da"
            ],
            [
             0.4,
             "#fde0ef"
            ],
            [
             0.5,
             "#f7f7f7"
            ],
            [
             0.6,
             "#e6f5d0"
            ],
            [
             0.7,
             "#b8e186"
            ],
            [
             0.8,
             "#7fbc41"
            ],
            [
             0.9,
             "#4d9221"
            ],
            [
             1,
             "#276419"
            ]
           ],
           "sequential": [
            [
             0,
             "#0d0887"
            ],
            [
             0.1111111111111111,
             "#46039f"
            ],
            [
             0.2222222222222222,
             "#7201a8"
            ],
            [
             0.3333333333333333,
             "#9c179e"
            ],
            [
             0.4444444444444444,
             "#bd3786"
            ],
            [
             0.5555555555555556,
             "#d8576b"
            ],
            [
             0.6666666666666666,
             "#ed7953"
            ],
            [
             0.7777777777777778,
             "#fb9f3a"
            ],
            [
             0.8888888888888888,
             "#fdca26"
            ],
            [
             1,
             "#f0f921"
            ]
           ],
           "sequentialminus": [
            [
             0,
             "#0d0887"
            ],
            [
             0.1111111111111111,
             "#46039f"
            ],
            [
             0.2222222222222222,
             "#7201a8"
            ],
            [
             0.3333333333333333,
             "#9c179e"
            ],
            [
             0.4444444444444444,
             "#bd3786"
            ],
            [
             0.5555555555555556,
             "#d8576b"
            ],
            [
             0.6666666666666666,
             "#ed7953"
            ],
            [
             0.7777777777777778,
             "#fb9f3a"
            ],
            [
             0.8888888888888888,
             "#fdca26"
            ],
            [
             1,
             "#f0f921"
            ]
           ]
          },
          "colorway": [
           "#636efa",
           "#EF553B",
           "#00cc96",
           "#ab63fa",
           "#FFA15A",
           "#19d3f3",
           "#FF6692",
           "#B6E880",
           "#FF97FF",
           "#FECB52"
          ],
          "font": {
           "color": "#2a3f5f"
          },
          "geo": {
           "bgcolor": "white",
           "lakecolor": "white",
           "landcolor": "#E5ECF6",
           "showlakes": true,
           "showland": true,
           "subunitcolor": "white"
          },
          "hoverlabel": {
           "align": "left"
          },
          "hovermode": "closest",
          "mapbox": {
           "style": "light"
          },
          "paper_bgcolor": "white",
          "plot_bgcolor": "#E5ECF6",
          "polar": {
           "angularaxis": {
            "gridcolor": "white",
            "linecolor": "white",
            "ticks": ""
           },
           "bgcolor": "#E5ECF6",
           "radialaxis": {
            "gridcolor": "white",
            "linecolor": "white",
            "ticks": ""
           }
          },
          "scene": {
           "xaxis": {
            "backgroundcolor": "#E5ECF6",
            "gridcolor": "white",
            "gridwidth": 2,
            "linecolor": "white",
            "showbackground": true,
            "ticks": "",
            "zerolinecolor": "white"
           },
           "yaxis": {
            "backgroundcolor": "#E5ECF6",
            "gridcolor": "white",
            "gridwidth": 2,
            "linecolor": "white",
            "showbackground": true,
            "ticks": "",
            "zerolinecolor": "white"
           },
           "zaxis": {
            "backgroundcolor": "#E5ECF6",
            "gridcolor": "white",
            "gridwidth": 2,
            "linecolor": "white",
            "showbackground": true,
            "ticks": "",
            "zerolinecolor": "white"
           }
          },
          "shapedefaults": {
           "line": {
            "color": "#2a3f5f"
           }
          },
          "ternary": {
           "aaxis": {
            "gridcolor": "white",
            "linecolor": "white",
            "ticks": ""
           },
           "baxis": {
            "gridcolor": "white",
            "linecolor": "white",
            "ticks": ""
           },
           "bgcolor": "#E5ECF6",
           "caxis": {
            "gridcolor": "white",
            "linecolor": "white",
            "ticks": ""
           }
          },
          "title": {
           "x": 0.05
          },
          "xaxis": {
           "automargin": true,
           "gridcolor": "white",
           "linecolor": "white",
           "ticks": "",
           "title": {
            "standoff": 15
           },
           "zerolinecolor": "white",
           "zerolinewidth": 2
          },
          "yaxis": {
           "automargin": true,
           "gridcolor": "white",
           "linecolor": "white",
           "ticks": "",
           "title": {
            "standoff": 15
           },
           "zerolinecolor": "white",
           "zerolinewidth": 2
          }
         }
        },
        "width": 800
       }
      }
     },
     "metadata": {},
     "output_type": "display_data"
    }
   ],
   "source": [
    "# Gráfico de calor (heatmap)\n",
    "fig = go.Figure()\n",
    "\n",
    "fig.add_trace(\n",
    "    go.Heatmap(\n",
    "        x = corr.columns,\n",
    "        y = corr.index,\n",
    "        z = np.array(corr),\n",
    "        text=corr.values,\n",
    "        texttemplate='%{text:.2f}',\n",
    "        colorscale='Greens'))\n",
    "\n",
    "fig.update_layout(\n",
    "    height = 600,\n",
    "    width = 800)\n",
    "\n",
    "fig.show()"
   ]
  },
  {
   "cell_type": "code",
   "execution_count": 6,
   "metadata": {},
   "outputs": [
    {
     "name": "stdout",
     "output_type": "stream",
     "text": [
      "[4.13092195 3.88586508 2.99065182 ... 3.4306949  4.35369694 2.16645141]\n"
     ]
    }
   ],
   "source": [
    "#%% Padronização das variáveis\n",
    "\n",
    "# Aplicando o procedimento de ZScore em todas as variáveis\n",
    "paises_pad = paises.apply(zscore, ddof=1)\n",
    "\n",
    "# As variáveis passam a ter média = 0 e desvio padrão = 1\n",
    "\n",
    "#%% Cluster hierárquico aglomerativo: distância euclidiana + single linkage\n",
    "\n",
    "# Visualizando as distâncias\n",
    "dist_euclidiana = pdist(paises_pad, metric='euclidean')\n",
    "\n",
    "print(dist_euclidiana)\n",
    "\n",
    "# Opções para as distâncias (\"metric\"):\n",
    "    ## euclidean\n",
    "    ## sqeuclidean\n",
    "    ## cityblock\n",
    "    ## chebyshev\n",
    "    ## canberra\n",
    "    ## correlation"
   ]
  },
  {
   "cell_type": "code",
   "execution_count": 7,
   "metadata": {},
   "outputs": [
    {
     "data": {
      "image/png": "[encoded data removed]",
      "text/plain": [
       "<Figure size 1600x800 with 1 Axes>"
      ]
     },
     "metadata": {},
     "output_type": "display_data"
    }
   ],
   "source": [
    "# Gerando o dendrograma\n",
    "## Distância euclidiana e método de encadeamento single linkage\n",
    "\n",
    "plt.figure(figsize=(16,8))\n",
    "dend_sing = sch.linkage(paises_pad, method = 'single', metric = 'euclidean')\n",
    "dendrogram_s = sch.dendrogram(dend_sing)\n",
    "plt.title('Dendrograma Single Linkage', fontsize=16)\n",
    "plt.xlabel('Países', fontsize=16)\n",
    "plt.ylabel('Distância Euclidiana', fontsize=16)\n",
    "plt.show()\n",
    "\n",
    "# Opções para o método de encadeamento (\"method\"):\n",
    "    ## single\n",
    "    ## complete\n",
    "    ## average\n",
    "\n",
    "# Opções para as distâncias (\"metric\"):\n",
    "    ## euclidean\n",
    "    ## sqeuclidean\n",
    "    ## cityblock\n",
    "    ## chebyshev\n",
    "    ## canberra\n",
    "    ## correlation"
   ]
  },
  {
   "cell_type": "code",
   "execution_count": 8,
   "metadata": {},
   "outputs": [
    {
     "data": {
      "image/png": "[encoded data removed]",
      "text/plain": [
       "<Figure size 1600x800 with 1 Axes>"
      ]
     },
     "metadata": {},
     "output_type": "display_data"
    }
   ],
   "source": [
    "#%% Cluster hierárquico aglomerativo: distância euclidiana + average linkage\n",
    "\n",
    "# Gerando o dendrograma\n",
    "## Distância euclidiana e método de encadeamento average linkage\n",
    "\n",
    "plt.figure(figsize=(16,8))\n",
    "dend_avg = sch.linkage(paises_pad, method = 'average', metric = 'euclidean')\n",
    "dendrogram_a = sch.dendrogram(dend_avg)\n",
    "plt.title('Dendrograma Average Linkage', fontsize=16)\n",
    "plt.xlabel('Países', fontsize=16)\n",
    "plt.ylabel('Distância Euclidiana', fontsize=16)\n",
    "plt.show()"
   ]
  },
  {
   "cell_type": "code",
   "execution_count": 9,
   "metadata": {},
   "outputs": [
    {
     "data": {
      "image/png": "[encoded data removed]",
      "text/plain": [
       "<Figure size 1600x800 with 1 Axes>"
      ]
     },
     "metadata": {},
     "output_type": "display_data"
    }
   ],
   "source": [
    "# Gerando o dendrograma\n",
    "## Distância euclidiana e método de encadeamento complete linkage\n",
    "\n",
    "plt.figure(figsize=(16,8))\n",
    "dend_compl = sch.linkage(paises_pad, method = 'complete', metric = 'euclidean')\n",
    "dendrogram_c = sch.dendrogram(dend_compl, color_threshold = 8)\n",
    "plt.title('Dendrograma Complete Linkage', fontsize=16)\n",
    "plt.xlabel('Países', fontsize=16)\n",
    "plt.ylabel('Distância Euclidiana', fontsize=16)\n",
    "plt.axhline(y = 8, color = 'red', linestyle = '--')\n",
    "plt.show()"
   ]
  },
  {
   "cell_type": "code",
   "execution_count": 15,
   "metadata": {},
   "outputs": [
    {
     "data": {
      "image/png": "[encoded data removed]",
      "text/plain": [
       "<Figure size 1600x800 with 1 Axes>"
      ]
     },
     "metadata": {},
     "output_type": "display_data"
    }
   ],
   "source": [
    "#%% Identificação da quantidade de clusters (Método Elbow)\n",
    "\n",
    "elbow = []\n",
    "K = range(1,11) # ponto de parada pode ser parametrizado manualmente\n",
    "for k in K:\n",
    "    kmeanElbow = KMeans(n_clusters=k, init='random', random_state=100).fit(paises_pad)\n",
    "    elbow.append(kmeanElbow.inertia_)\n",
    "\n",
    "plt.figure(figsize=(16,8))\n",
    "plt.plot(K, elbow, marker='o')\n",
    "plt.xlabel('Nº Clusters', fontsize=16)\n",
    "plt.xticks(range(1,11)) # ajustar range\n",
    "plt.ylabel('WCSS', fontsize=16)\n",
    "plt.title('Método de Elbow', fontsize=16)\n",
    "plt.show()"
   ]
  },
  {
   "attachments": {
    "image.png": {
     "image/png": "[encoded data removed]"
    }
   },
   "cell_type": "markdown",
   "metadata": {},
   "source": [
    "Método Elbow na Definição de Quantidade de Clusters\n",
    "O método Elbow (cotovelo) é uma técnica usada para determinar o número ideal de clusters em uma análise de agrupamento (clustering). Ele envolve calcular a soma das distâncias quadradas dentro do cluster (WCSS, Within-Cluster Sum of Squares) para diferentes números de clusters e escolher o número de clusters onde a taxa de diminuição da WCSS começa a se estabilizar, formando um \"cotovelo\" no gráfico.\n",
    "\n",
    "Como Funciona\n",
    "WCSS (Within-Cluster Sum of Squares): É a soma das distâncias quadradas de cada ponto aos centros dos seus clusters correspondentes. Quanto menor a WCSS, mais compactos são os clusters.\n",
    "Análise do Gráfico: Plotamos o número de clusters no eixo x e o WCSS no eixo y. Conforme aumentamos o número de clusters, o WCSS diminui, já que os clusters se tornam menores e mais compactos. No entanto, a taxa de diminuição desacelera e eventualmente se estabiliza.\n",
    "\n",
    "![image.png](attachment:image.png)"
   ]
  },
  {
   "cell_type": "code",
   "execution_count": 19,
   "metadata": {},
   "outputs": [
    {
     "data": {
      "image/png": "[encoded data removed]",
      "text/plain": [
       "<Figure size 1600x800 with 1 Axes>"
      ]
     },
     "metadata": {},
     "output_type": "display_data"
    }
   ],
   "source": [
    "#%% Identificação da quantidade de clusters (Método da Silhueta)\n",
    "\n",
    "silhueta = []\n",
    "I = range(2,11) # ponto de parada pode ser parametrizado manualmente\n",
    "for i in I: \n",
    "    kmeansSil = KMeans(n_clusters=i, init='random', random_state=100).fit(paises_pad)\n",
    "    silhueta.append(silhouette_score(paises_pad, kmeansSil.labels_))\n",
    "\n",
    "plt.figure(figsize=(16,8))\n",
    "plt.plot(range(2, 11), silhueta, color = 'purple', marker='o')\n",
    "plt.xlabel('Nº Clusters', fontsize=16)\n",
    "plt.ylabel('Silhueta Média', fontsize=16)\n",
    "plt.title('Método da Silhueta', fontsize=16)\n",
    "plt.axvline(x = silhueta.index(max(silhueta))+2, linestyle = 'dotted', color = 'red') \n",
    "plt.show()"
   ]
  },
  {
   "attachments": {
    "image-2.png": {
     "image/png": "[encoded data removed]"
    },
    "image.png": {
     "image/png": "[encoded data removed]"
    }
   },
   "cell_type": "markdown",
   "metadata": {},
   "source": [
    "![image.png](attachment:image.png)\n",
    "\n",
    "![image-2.png](attachment:image-2.png)"
   ]
  },
  {
   "cell_type": "code",
   "execution_count": 80,
   "metadata": {},
   "outputs": [
    {
     "data": {
      "text/html": [
       "<div>\n",
       "<style scoped>\n",
       "    .dataframe tbody tr th:only-of-type {\n",
       "        vertical-align: middle;\n",
       "    }\n",
       "\n",
       "    .dataframe tbody tr th {\n",
       "        vertical-align: top;\n",
       "    }\n",
       "\n",
       "    .dataframe thead th {\n",
       "        text-align: right;\n",
       "    }\n",
       "</style>\n",
       "<table border=\"1\" class=\"dataframe\">\n",
       "  <thead>\n",
       "    <tr style=\"text-align: right;\">\n",
       "      <th></th>\n",
       "      <th>country</th>\n",
       "      <th>child_mort</th>\n",
       "      <th>exports</th>\n",
       "      <th>health</th>\n",
       "      <th>imports</th>\n",
       "      <th>income</th>\n",
       "      <th>inflation</th>\n",
       "      <th>life_expec</th>\n",
       "      <th>total_fer</th>\n",
       "      <th>gdpp</th>\n",
       "      <th>cluster_complete</th>\n",
       "    </tr>\n",
       "  </thead>\n",
       "  <tbody>\n",
       "    <tr>\n",
       "      <th>0</th>\n",
       "      <td>Afghanistan</td>\n",
       "      <td>90.2</td>\n",
       "      <td>10.0</td>\n",
       "      <td>7.58</td>\n",
       "      <td>44.9</td>\n",
       "      <td>1610</td>\n",
       "      <td>9.440</td>\n",
       "      <td>56.2</td>\n",
       "      <td>5.82</td>\n",
       "      <td>553</td>\n",
       "      <td>4</td>\n",
       "    </tr>\n",
       "    <tr>\n",
       "      <th>1</th>\n",
       "      <td>Albania</td>\n",
       "      <td>16.6</td>\n",
       "      <td>28.0</td>\n",
       "      <td>6.55</td>\n",
       "      <td>48.6</td>\n",
       "      <td>9930</td>\n",
       "      <td>4.490</td>\n",
       "      <td>76.3</td>\n",
       "      <td>1.65</td>\n",
       "      <td>4090</td>\n",
       "      <td>1</td>\n",
       "    </tr>\n",
       "    <tr>\n",
       "      <th>2</th>\n",
       "      <td>Algeria</td>\n",
       "      <td>27.3</td>\n",
       "      <td>38.4</td>\n",
       "      <td>4.17</td>\n",
       "      <td>31.4</td>\n",
       "      <td>12900</td>\n",
       "      <td>16.100</td>\n",
       "      <td>76.5</td>\n",
       "      <td>2.89</td>\n",
       "      <td>4460</td>\n",
       "      <td>1</td>\n",
       "    </tr>\n",
       "    <tr>\n",
       "      <th>3</th>\n",
       "      <td>Angola</td>\n",
       "      <td>119.0</td>\n",
       "      <td>62.3</td>\n",
       "      <td>2.85</td>\n",
       "      <td>42.9</td>\n",
       "      <td>5900</td>\n",
       "      <td>22.400</td>\n",
       "      <td>60.1</td>\n",
       "      <td>6.16</td>\n",
       "      <td>3530</td>\n",
       "      <td>4</td>\n",
       "    </tr>\n",
       "    <tr>\n",
       "      <th>4</th>\n",
       "      <td>Antigua and Barbuda</td>\n",
       "      <td>10.3</td>\n",
       "      <td>45.5</td>\n",
       "      <td>6.03</td>\n",
       "      <td>58.9</td>\n",
       "      <td>19100</td>\n",
       "      <td>1.440</td>\n",
       "      <td>76.8</td>\n",
       "      <td>2.13</td>\n",
       "      <td>12200</td>\n",
       "      <td>1</td>\n",
       "    </tr>\n",
       "    <tr>\n",
       "      <th>5</th>\n",
       "      <td>Argentina</td>\n",
       "      <td>14.5</td>\n",
       "      <td>18.9</td>\n",
       "      <td>8.10</td>\n",
       "      <td>16.0</td>\n",
       "      <td>18700</td>\n",
       "      <td>20.900</td>\n",
       "      <td>75.8</td>\n",
       "      <td>2.37</td>\n",
       "      <td>10300</td>\n",
       "      <td>1</td>\n",
       "    </tr>\n",
       "    <tr>\n",
       "      <th>6</th>\n",
       "      <td>Armenia</td>\n",
       "      <td>18.1</td>\n",
       "      <td>20.8</td>\n",
       "      <td>4.40</td>\n",
       "      <td>45.3</td>\n",
       "      <td>6700</td>\n",
       "      <td>7.770</td>\n",
       "      <td>73.3</td>\n",
       "      <td>1.69</td>\n",
       "      <td>3220</td>\n",
       "      <td>1</td>\n",
       "    </tr>\n",
       "    <tr>\n",
       "      <th>7</th>\n",
       "      <td>Australia</td>\n",
       "      <td>4.8</td>\n",
       "      <td>19.8</td>\n",
       "      <td>8.73</td>\n",
       "      <td>20.9</td>\n",
       "      <td>41400</td>\n",
       "      <td>1.160</td>\n",
       "      <td>82.0</td>\n",
       "      <td>1.93</td>\n",
       "      <td>51900</td>\n",
       "      <td>0</td>\n",
       "    </tr>\n",
       "    <tr>\n",
       "      <th>8</th>\n",
       "      <td>Austria</td>\n",
       "      <td>4.3</td>\n",
       "      <td>51.3</td>\n",
       "      <td>11.00</td>\n",
       "      <td>47.8</td>\n",
       "      <td>43200</td>\n",
       "      <td>0.873</td>\n",
       "      <td>80.5</td>\n",
       "      <td>1.44</td>\n",
       "      <td>46900</td>\n",
       "      <td>0</td>\n",
       "    </tr>\n",
       "    <tr>\n",
       "      <th>9</th>\n",
       "      <td>Azerbaijan</td>\n",
       "      <td>39.2</td>\n",
       "      <td>54.3</td>\n",
       "      <td>5.88</td>\n",
       "      <td>20.7</td>\n",
       "      <td>16000</td>\n",
       "      <td>13.800</td>\n",
       "      <td>69.1</td>\n",
       "      <td>1.92</td>\n",
       "      <td>5840</td>\n",
       "      <td>1</td>\n",
       "    </tr>\n",
       "  </tbody>\n",
       "</table>\n",
       "</div>"
      ],
      "text/plain": [
       "               country  child_mort  exports  health  imports  income  \\\n",
       "0          Afghanistan        90.2     10.0    7.58     44.9    1610   \n",
       "1              Albania        16.6     28.0    6.55     48.6    9930   \n",
       "2              Algeria        27.3     38.4    4.17     31.4   12900   \n",
       "3               Angola       119.0     62.3    2.85     42.9    5900   \n",
       "4  Antigua and Barbuda        10.3     45.5    6.03     58.9   19100   \n",
       "5            Argentina        14.5     18.9    8.10     16.0   18700   \n",
       "6              Armenia        18.1     20.8    4.40     45.3    6700   \n",
       "7            Australia         4.8     19.8    8.73     20.9   41400   \n",
       "8              Austria         4.3     51.3   11.00     47.8   43200   \n",
       "9           Azerbaijan        39.2     54.3    5.88     20.7   16000   \n",
       "\n",
       "   inflation  life_expec  total_fer   gdpp cluster_complete  \n",
       "0      9.440        56.2       5.82    553                4  \n",
       "1      4.490        76.3       1.65   4090                1  \n",
       "2     16.100        76.5       2.89   4460                1  \n",
       "3     22.400        60.1       6.16   3530                4  \n",
       "4      1.440        76.8       2.13  12200                1  \n",
       "5     20.900        75.8       2.37  10300                1  \n",
       "6      7.770        73.3       1.69   3220                1  \n",
       "7      1.160        82.0       1.93  51900                0  \n",
       "8      0.873        80.5       1.44  46900                0  \n",
       "9     13.800        69.1       1.92   5840                1  "
      ]
     },
     "metadata": {},
     "output_type": "display_data"
    },
    {
     "data": {
      "text/html": [
       "<div>\n",
       "<style scoped>\n",
       "    .dataframe tbody tr th:only-of-type {\n",
       "        vertical-align: middle;\n",
       "    }\n",
       "\n",
       "    .dataframe tbody tr th {\n",
       "        vertical-align: top;\n",
       "    }\n",
       "\n",
       "    .dataframe thead th {\n",
       "        text-align: right;\n",
       "    }\n",
       "</style>\n",
       "<table border=\"1\" class=\"dataframe\">\n",
       "  <thead>\n",
       "    <tr style=\"text-align: right;\">\n",
       "      <th></th>\n",
       "      <th>child_mort</th>\n",
       "      <th>exports</th>\n",
       "      <th>health</th>\n",
       "      <th>imports</th>\n",
       "      <th>income</th>\n",
       "      <th>inflation</th>\n",
       "      <th>life_expec</th>\n",
       "      <th>total_fer</th>\n",
       "      <th>gdpp</th>\n",
       "      <th>cluster_complete</th>\n",
       "    </tr>\n",
       "  </thead>\n",
       "  <tbody>\n",
       "    <tr>\n",
       "      <th>0</th>\n",
       "      <td>1.287660</td>\n",
       "      <td>-1.134867</td>\n",
       "      <td>0.278251</td>\n",
       "      <td>-0.082208</td>\n",
       "      <td>-0.805822</td>\n",
       "      <td>0.156864</td>\n",
       "      <td>-1.614237</td>\n",
       "      <td>1.897176</td>\n",
       "      <td>-0.677143</td>\n",
       "      <td>4</td>\n",
       "    </tr>\n",
       "    <tr>\n",
       "      <th>1</th>\n",
       "      <td>-0.537333</td>\n",
       "      <td>-0.478220</td>\n",
       "      <td>-0.096725</td>\n",
       "      <td>0.070624</td>\n",
       "      <td>-0.374243</td>\n",
       "      <td>-0.311411</td>\n",
       "      <td>0.645924</td>\n",
       "      <td>-0.857394</td>\n",
       "      <td>-0.484167</td>\n",
       "      <td>1</td>\n",
       "    </tr>\n",
       "    <tr>\n",
       "      <th>2</th>\n",
       "      <td>-0.272015</td>\n",
       "      <td>-0.098824</td>\n",
       "      <td>-0.963176</td>\n",
       "      <td>-0.639838</td>\n",
       "      <td>-0.220182</td>\n",
       "      <td>0.786908</td>\n",
       "      <td>0.668413</td>\n",
       "      <td>-0.038289</td>\n",
       "      <td>-0.463980</td>\n",
       "      <td>1</td>\n",
       "    </tr>\n",
       "    <tr>\n",
       "      <th>3</th>\n",
       "      <td>2.001787</td>\n",
       "      <td>0.773056</td>\n",
       "      <td>-1.443729</td>\n",
       "      <td>-0.164820</td>\n",
       "      <td>-0.583289</td>\n",
       "      <td>1.382894</td>\n",
       "      <td>-1.175698</td>\n",
       "      <td>2.121770</td>\n",
       "      <td>-0.514720</td>\n",
       "      <td>4</td>\n",
       "    </tr>\n",
       "    <tr>\n",
       "      <th>4</th>\n",
       "      <td>-0.693548</td>\n",
       "      <td>0.160186</td>\n",
       "      <td>-0.286034</td>\n",
       "      <td>0.496076</td>\n",
       "      <td>0.101427</td>\n",
       "      <td>-0.599944</td>\n",
       "      <td>0.702147</td>\n",
       "      <td>-0.540321</td>\n",
       "      <td>-0.041692</td>\n",
       "      <td>1</td>\n",
       "    </tr>\n",
       "    <tr>\n",
       "      <th>5</th>\n",
       "      <td>-0.589405</td>\n",
       "      <td>-0.810191</td>\n",
       "      <td>0.467560</td>\n",
       "      <td>-1.275950</td>\n",
       "      <td>0.080678</td>\n",
       "      <td>1.240993</td>\n",
       "      <td>0.589701</td>\n",
       "      <td>-0.381785</td>\n",
       "      <td>-0.145354</td>\n",
       "      <td>1</td>\n",
       "    </tr>\n",
       "    <tr>\n",
       "      <th>6</th>\n",
       "      <td>-0.500139</td>\n",
       "      <td>-0.740879</td>\n",
       "      <td>-0.879444</td>\n",
       "      <td>-0.065685</td>\n",
       "      <td>-0.541791</td>\n",
       "      <td>-0.001119</td>\n",
       "      <td>0.308586</td>\n",
       "      <td>-0.830971</td>\n",
       "      <td>-0.531634</td>\n",
       "      <td>1</td>\n",
       "    </tr>\n",
       "    <tr>\n",
       "      <th>7</th>\n",
       "      <td>-0.829927</td>\n",
       "      <td>-0.777359</td>\n",
       "      <td>0.696915</td>\n",
       "      <td>-1.073550</td>\n",
       "      <td>1.258182</td>\n",
       "      <td>-0.626432</td>\n",
       "      <td>1.286865</td>\n",
       "      <td>-0.672435</td>\n",
       "      <td>2.124310</td>\n",
       "      <td>0</td>\n",
       "    </tr>\n",
       "    <tr>\n",
       "      <th>8</th>\n",
       "      <td>-0.842325</td>\n",
       "      <td>0.371772</td>\n",
       "      <td>1.523320</td>\n",
       "      <td>0.037580</td>\n",
       "      <td>1.351552</td>\n",
       "      <td>-0.653583</td>\n",
       "      <td>1.118196</td>\n",
       "      <td>-0.996114</td>\n",
       "      <td>1.851513</td>\n",
       "      <td>0</td>\n",
       "    </tr>\n",
       "    <tr>\n",
       "      <th>9</th>\n",
       "      <td>0.023059</td>\n",
       "      <td>0.481213</td>\n",
       "      <td>-0.340642</td>\n",
       "      <td>-1.081812</td>\n",
       "      <td>-0.059378</td>\n",
       "      <td>0.569325</td>\n",
       "      <td>-0.163686</td>\n",
       "      <td>-0.679041</td>\n",
       "      <td>-0.388688</td>\n",
       "      <td>1</td>\n",
       "    </tr>\n",
       "  </tbody>\n",
       "</table>\n",
       "</div>"
      ],
      "text/plain": [
       "   child_mort   exports    health   imports    income  inflation  life_expec  \\\n",
       "0    1.287660 -1.134867  0.278251 -0.082208 -0.805822   0.156864   -1.614237   \n",
       "1   -0.537333 -0.478220 -0.096725  0.070624 -0.374243  -0.311411    0.645924   \n",
       "2   -0.272015 -0.098824 -0.963176 -0.639838 -0.220182   0.786908    0.668413   \n",
       "3    2.001787  0.773056 -1.443729 -0.164820 -0.583289   1.382894   -1.175698   \n",
       "4   -0.693548  0.160186 -0.286034  0.496076  0.101427  -0.599944    0.702147   \n",
       "5   -0.589405 -0.810191  0.467560 -1.275950  0.080678   1.240993    0.589701   \n",
       "6   -0.500139 -0.740879 -0.879444 -0.065685 -0.541791  -0.001119    0.308586   \n",
       "7   -0.829927 -0.777359  0.696915 -1.073550  1.258182  -0.626432    1.286865   \n",
       "8   -0.842325  0.371772  1.523320  0.037580  1.351552  -0.653583    1.118196   \n",
       "9    0.023059  0.481213 -0.340642 -1.081812 -0.059378   0.569325   -0.163686   \n",
       "\n",
       "   total_fer      gdpp cluster_complete  \n",
       "0   1.897176 -0.677143                4  \n",
       "1  -0.857394 -0.484167                1  \n",
       "2  -0.038289 -0.463980                1  \n",
       "3   2.121770 -0.514720                4  \n",
       "4  -0.540321 -0.041692                1  \n",
       "5  -0.381785 -0.145354                1  \n",
       "6  -0.830971 -0.531634                1  \n",
       "7  -0.672435  2.124310                0  \n",
       "8  -0.996114  1.851513                0  \n",
       "9  -0.679041 -0.388688                1  "
      ]
     },
     "metadata": {},
     "output_type": "display_data"
    }
   ],
   "source": [
    "### FOI ESCOLHIDO 5 CLUSTERS #####\n",
    "\n",
    "# Gerando a variável com a indicação do cluster no dataset\n",
    "\n",
    "cluster_comp = AgglomerativeClustering(n_clusters = 5, metric = 'euclidean', linkage = 'complete')\n",
    "indica_cluster_comp = cluster_comp.fit_predict(paises_pad)\n",
    "dados_paises['cluster_complete'] = indica_cluster_comp\n",
    "paises_pad['cluster_complete'] = indica_cluster_comp\n",
    "dados_paises['cluster_complete'] = dados_paises['cluster_complete'].astype('category')\n",
    "paises_pad['cluster_complete'] = paises_pad['cluster_complete'].astype('category')\n",
    "\n",
    "display(dados_paises.head(10))\n",
    "display(paises_pad.head(10))"
   ]
  },
  {
   "cell_type": "code",
   "execution_count": 67,
   "metadata": {},
   "outputs": [
    {
     "data": {
      "text/html": [
       "<div>\n",
       "<style scoped>\n",
       "    .dataframe tbody tr th:only-of-type {\n",
       "        vertical-align: middle;\n",
       "    }\n",
       "\n",
       "    .dataframe tbody tr th {\n",
       "        vertical-align: top;\n",
       "    }\n",
       "\n",
       "    .dataframe thead th {\n",
       "        text-align: right;\n",
       "    }\n",
       "</style>\n",
       "<table border=\"1\" class=\"dataframe\">\n",
       "  <thead>\n",
       "    <tr style=\"text-align: right;\">\n",
       "      <th></th>\n",
       "      <th>0</th>\n",
       "      <th>1</th>\n",
       "    </tr>\n",
       "  </thead>\n",
       "  <tbody>\n",
       "    <tr>\n",
       "      <th>Source</th>\n",
       "      <td>cluster_complete</td>\n",
       "      <td>Within</td>\n",
       "    </tr>\n",
       "    <tr>\n",
       "      <th>SS</th>\n",
       "      <td>113.930595</td>\n",
       "      <td>52.069405</td>\n",
       "    </tr>\n",
       "    <tr>\n",
       "      <th>DF</th>\n",
       "      <td>4</td>\n",
       "      <td>162</td>\n",
       "    </tr>\n",
       "    <tr>\n",
       "      <th>MS</th>\n",
       "      <td>28.482649</td>\n",
       "      <td>0.321416</td>\n",
       "    </tr>\n",
       "    <tr>\n",
       "      <th>F</th>\n",
       "      <td>88.616129</td>\n",
       "      <td>NaN</td>\n",
       "    </tr>\n",
       "    <tr>\n",
       "      <th>p-unc</th>\n",
       "      <td>0.0</td>\n",
       "      <td>NaN</td>\n",
       "    </tr>\n",
       "    <tr>\n",
       "      <th>np2</th>\n",
       "      <td>0.686329</td>\n",
       "      <td>NaN</td>\n",
       "    </tr>\n",
       "  </tbody>\n",
       "</table>\n",
       "</div>"
      ],
      "text/plain": [
       "                       0          1\n",
       "Source  cluster_complete     Within\n",
       "SS            113.930595  52.069405\n",
       "DF                     4        162\n",
       "MS             28.482649   0.321416\n",
       "F              88.616129        NaN\n",
       "p-unc                0.0        NaN\n",
       "np2             0.686329        NaN"
      ]
     },
     "execution_count": 67,
     "metadata": {},
     "output_type": "execute_result"
    }
   ],
   "source": [
    "#%% Análise de variância de um fator (ANOVA)\n",
    "\n",
    "# Interpretação do output:\n",
    "\n",
    "## cluster_kmeans MS: indica a variabilidade entre grupos\n",
    "## Within MS: indica a variabilidade dentro dos grupos\n",
    "## F: estatística de teste (cluster_kmeans MS / Within MS)\n",
    "## p-unc: p-valor da estatística F\n",
    "## se p-valor < 0.05: pelo menos um cluster apresenta média estatisticamente diferente dos demais\n",
    "\n",
    "# child_mort\n",
    "pg.anova(dv='child_mort', \n",
    "         between='cluster_complete', \n",
    "         data=paises_pad,\n",
    "         detailed=True).T\n",
    "\n",
    "# exports\n",
    "pg.anova(dv='exports', \n",
    "         between='cluster_complete', \n",
    "         data=paises_pad,\n",
    "         detailed=True).T\n",
    "\n",
    "# imports\n",
    "pg.anova(dv='imports', \n",
    "         between='cluster_complete', \n",
    "         data=paises_pad,\n",
    "         detailed=True).T\n",
    "\n",
    "# health\n",
    "pg.anova(dv='health', \n",
    "         between='cluster_complete', \n",
    "         data=paises_pad,\n",
    "         detailed=True).T\n",
    "\n",
    "# income\n",
    "pg.anova(dv='income', \n",
    "         between='cluster_complete', \n",
    "         data=paises_pad,\n",
    "         detailed=True).T\n",
    "\n",
    "# inflation\n",
    "pg.anova(dv='inflation', \n",
    "         between='cluster_complete', \n",
    "         data=paises_pad,\n",
    "         detailed=True).T\n",
    "\n",
    "# life_expec\n",
    "pg.anova(dv='life_expec', \n",
    "         between='cluster_complete', \n",
    "         data=paises_pad,\n",
    "         detailed=True).T\n",
    "\n",
    "# total_fer\n",
    "pg.anova(dv='total_fer', \n",
    "         between='cluster_complete', \n",
    "         data=paises_pad,\n",
    "         detailed=True).T\n",
    "\n",
    "# gdpp\n",
    "pg.anova(dv='gdpp', \n",
    "         between='cluster_complete', \n",
    "         data=paises_pad,\n",
    "         detailed=True).T\n",
    "\n",
    "## A variável mais discriminante contém a maior estatística F (e significativa)\n",
    "## O valor da estatística F é sensível ao tamanho da amostra"
   ]
  },
  {
   "cell_type": "code",
   "execution_count": 79,
   "metadata": {},
   "outputs": [
    {
     "name": "stdout",
     "output_type": "stream",
     "text": [
      "Para child_mort (ok): apresenta média estatisticamente diferente dos demais;\n",
      "Para exports (ok): apresenta média estatisticamente diferente dos demais;\n",
      "Para health (ok): apresenta média estatisticamente diferente dos demais;\n",
      "Para imports (ok): apresenta média estatisticamente diferente dos demais;\n",
      "Para income (ok): apresenta média estatisticamente diferente dos demais;\n",
      "Para inflation (ok): apresenta média estatisticamente diferente dos demais;\n",
      "Para life_expec (ok): apresenta média estatisticamente diferente dos demais;\n",
      "Para total_fer (ok): apresenta média estatisticamente diferente dos demais;\n",
      "Para gdpp (ok): apresenta média estatisticamente diferente dos demais;\n"
     ]
    },
    {
     "data": {
      "text/html": [
       "<div>\n",
       "<style scoped>\n",
       "    .dataframe tbody tr th:only-of-type {\n",
       "        vertical-align: middle;\n",
       "    }\n",
       "\n",
       "    .dataframe tbody tr th {\n",
       "        vertical-align: top;\n",
       "    }\n",
       "\n",
       "    .dataframe thead th {\n",
       "        text-align: right;\n",
       "    }\n",
       "</style>\n",
       "<table border=\"1\" class=\"dataframe\">\n",
       "  <thead>\n",
       "    <tr style=\"text-align: right;\">\n",
       "      <th></th>\n",
       "      <th>categoria</th>\n",
       "      <th>teste_f</th>\n",
       "      <th>teste_pvalue</th>\n",
       "    </tr>\n",
       "  </thead>\n",
       "  <tbody>\n",
       "    <tr>\n",
       "      <th>7</th>\n",
       "      <td>total_fer</td>\n",
       "      <td>88.62</td>\n",
       "      <td>0.0</td>\n",
       "    </tr>\n",
       "    <tr>\n",
       "      <th>6</th>\n",
       "      <td>life_expec</td>\n",
       "      <td>82.75</td>\n",
       "      <td>0.0</td>\n",
       "    </tr>\n",
       "    <tr>\n",
       "      <th>8</th>\n",
       "      <td>gdpp</td>\n",
       "      <td>74.11</td>\n",
       "      <td>0.0</td>\n",
       "    </tr>\n",
       "    <tr>\n",
       "      <th>0</th>\n",
       "      <td>child_mort</td>\n",
       "      <td>62.48</td>\n",
       "      <td>0.0</td>\n",
       "    </tr>\n",
       "    <tr>\n",
       "      <th>5</th>\n",
       "      <td>inflation</td>\n",
       "      <td>46.43</td>\n",
       "      <td>0.0</td>\n",
       "    </tr>\n",
       "    <tr>\n",
       "      <th>4</th>\n",
       "      <td>income</td>\n",
       "      <td>42.06</td>\n",
       "      <td>0.0</td>\n",
       "    </tr>\n",
       "    <tr>\n",
       "      <th>1</th>\n",
       "      <td>exports</td>\n",
       "      <td>37.64</td>\n",
       "      <td>0.0</td>\n",
       "    </tr>\n",
       "    <tr>\n",
       "      <th>3</th>\n",
       "      <td>imports</td>\n",
       "      <td>28.83</td>\n",
       "      <td>0.0</td>\n",
       "    </tr>\n",
       "    <tr>\n",
       "      <th>2</th>\n",
       "      <td>health</td>\n",
       "      <td>7.20</td>\n",
       "      <td>0.0</td>\n",
       "    </tr>\n",
       "  </tbody>\n",
       "</table>\n",
       "</div>"
      ],
      "text/plain": [
       "    categoria  teste_f  teste_pvalue\n",
       "7   total_fer    88.62           0.0\n",
       "6  life_expec    82.75           0.0\n",
       "8        gdpp    74.11           0.0\n",
       "0  child_mort    62.48           0.0\n",
       "5   inflation    46.43           0.0\n",
       "4      income    42.06           0.0\n",
       "1     exports    37.64           0.0\n",
       "3     imports    28.83           0.0\n",
       "2      health     7.20           0.0"
      ]
     },
     "metadata": {},
     "output_type": "display_data"
    },
    {
     "data": {
      "image/png": "[encoded data removed]",
      "text/plain": [
       "<Figure size 1000x600 with 1 Axes>"
      ]
     },
     "metadata": {},
     "output_type": "display_data"
    }
   ],
   "source": [
    "### loop para o teste F de cada categoria ###\n",
    "\n",
    "import matplotlib.pyplot as plt\n",
    "\n",
    "categoria = []\n",
    "teste_f = []\n",
    "teste_pvalue = []\n",
    "\n",
    "teste_paises_pad = paises_pad.drop(['cluster_complete'], axis = 1)\n",
    "\n",
    "for i in teste_paises_pad.columns:\n",
    "    # Executa ANOVA para a coluna atual\n",
    "    teste = pg.anova(dv=i,\n",
    "                    between='cluster_complete',\n",
    "                    data=paises_pad, detailed=True)\n",
    "    categoria.append(i)\n",
    "    teste_f.append(round(teste.iloc[0,4], 2))\n",
    "    teste_pvalue.append(round(teste.iloc[0,5], 2))\n",
    "    if  teste.iloc[0,5] < 0.05:\n",
    "        print(f'Para {i} (ok): apresenta média estatisticamente diferente dos demais;')\n",
    "    else:\n",
    "        print(f'Para {i} (nok): NÃO apresenta média estatisticamente diferente dos demais;')\n",
    "\n",
    "df_teste = {'categoria': categoria,\n",
    "            'teste_f': teste_f,\n",
    "            'teste_pvalue': teste_pvalue,\n",
    "            }\n",
    "    \n",
    "df_teste = pd.DataFrame(df_teste)   \n",
    "\n",
    "df_teste = df_teste.sort_values(by = 'teste_f', ascending = False)\n",
    "\n",
    "display(df_teste)\n",
    "\n",
    "# Criar gráfico de barras horizontais\n",
    "plt.figure(figsize=(10, 6))\n",
    "bars = plt.barh(df_teste['categoria'], df_teste['teste_f'], color='purple')\n",
    "plt.xlabel('Valor do Teste F')\n",
    "plt.ylabel('Categoria')\n",
    "plt.title('Valores do Teste F por Categoria')\n",
    "plt.gca().invert_yaxis()  # Inverte o eixo y para ter a maior barra no topo\n",
    "\n",
    "# Adicionar rótulos de valor em cada barra\n",
    "for bar in bars:\n",
    "    plt.text(bar.get_width(), bar.get_y() + bar.get_height()/2, \n",
    "             f'{bar.get_width():.2f}', \n",
    "             va='center', ha='left')\n",
    "\n",
    "plt.show()"
   ]
  },
  {
   "cell_type": "code",
   "execution_count": 75,
   "metadata": {},
   "outputs": [
    {
     "data": {
      "application/vnd.plotly.v1+json": {
       "config": {
        "plotlyServerURL": "https://plot.ly"
       },
       "data": [
        {
         "hovertemplate": "cluster_complete=4<br>total_fer=%{x}<br>income=%{y}<br>life_expec=%{z}<extra></extra>",
         "legendgroup": "4",
         "marker": {
          "color": "#636efa",
          "symbol": "circle"
         },
         "mode": "markers",
         "name": "4",
         "scene": "scene",
         "showlegend": true,
         "type": "scatter3d",
         "x": [
          5.82,
          6.16,
          5.36,
          2.38,
          2.88,
          5.87,
          6.26,
          2.88,
          5.11,
          5.21,
          6.59,
          4.75,
          6.54,
          4.95,
          5.27,
          5.21,
          2.67,
          5.71,
          4.27,
          5.34,
          5.05,
          2.65,
          3.33,
          4.56,
          4.37,
          3.84,
          3.1,
          3.15,
          3.3,
          5.02,
          4.6,
          5.31,
          6.55,
          4.98,
          3.46,
          5.56,
          3.6,
          7.49,
          4.51,
          4.34,
          5.06,
          5.2,
          4.24,
          2.59,
          4.88,
          3.51,
          5.43,
          6.23,
          4.87,
          3.91,
          6.15,
          3.5,
          4.67,
          5.4
         ],
         "y": [
          1610,
          5900,
          1820,
          6420,
          13300,
          1430,
          764,
          2520,
          2660,
          888,
          1930,
          1410,
          609,
          5190,
          2690,
          33700,
          7350,
          1660,
          3060,
          1190,
          1390,
          5840,
          1500,
          12700,
          2480,
          1730,
          2790,
          3980,
          2380,
          700,
          1390,
          1030,
          1870,
          3320,
          3340,
          918,
          8460,
          814,
          1350,
          5400,
          2180,
          1220,
          1780,
          12000,
          3370,
          2110,
          2090,
          1850,
          1210,
          4980,
          1540,
          2950,
          4480,
          3280
         ],
         "z": [
          56.2,
          60.1,
          61.8,
          72.1,
          57.1,
          57.9,
          57.7,
          66.1,
          57.3,
          47.5,
          56.5,
          65.9,
          57.5,
          60.4,
          56.3,
          60.9,
          65.3,
          65.5,
          62.2,
          58,
          55.6,
          65.5,
          32.1,
          67.2,
          62.8,
          60.7,
          68.5,
          63.8,
          46.5,
          60.8,
          60.8,
          53.1,
          59.5,
          68.2,
          65.4,
          54.5,
          58.6,
          58.8,
          64.6,
          71.5,
          64,
          55,
          61.7,
          54.3,
          66.3,
          69.6,
          59.3,
          71.1,
          58.7,
          69.9,
          56.8,
          63,
          67.5,
          52
         ]
        },
        {
         "hovertemplate": "cluster_complete=1<br>total_fer=%{x}<br>income=%{y}<br>life_expec=%{z}<extra></extra>",
         "legendgroup": "1",
         "marker": {
          "color": "#EF553B",
          "symbol": "circle"
         },
         "mode": "markers",
         "name": "1",
         "scene": "scene",
         "showlegend": true,
         "type": "scatter3d",
         "x": [
          1.65,
          2.89,
          2.13,
          2.37,
          1.69,
          1.92,
          1.86,
          2.16,
          2.33,
          1.78,
          1.49,
          1.86,
          2.71,
          3.2,
          1.31,
          1.8,
          1.84,
          1.57,
          2.67,
          1.88,
          1.59,
          2.01,
          1.92,
          1.55,
          1.42,
          1.51,
          2.6,
          2.66,
          3.19,
          2.27,
          4.61,
          1.72,
          4.08,
          1.92,
          1.48,
          2.24,
          3.38,
          1.25,
          2.6,
          2.48,
          1.76,
          2.05,
          3.03,
          1.46,
          2.17,
          3.66,
          2.6,
          2.21,
          1.36,
          1.61,
          2.41,
          1.5,
          1.47,
          2.15,
          2.23,
          1.57,
          1.27,
          2.64,
          1.77,
          2.58,
          2.41,
          2.61,
          1.79,
          2.17,
          2.9,
          3.85,
          2.62,
          2.73,
          2.54,
          3.16,
          1.41,
          1.39,
          1.59,
          1.57,
          2.96,
          1.4,
          2.17,
          1.43,
          1.57,
          1.23,
          1.37,
          2.2,
          2.07,
          2.52,
          1.55,
          2.14,
          2.15,
          2.83,
          1.44,
          1.87,
          1.92,
          2.08,
          2.34,
          2.47,
          1.95
         ],
         "y": [
          9930,
          12900,
          19100,
          18700,
          6700,
          16000,
          22900,
          41100,
          2440,
          15300,
          16200,
          41100,
          7880,
          5410,
          9720,
          14500,
          80600,
          15300,
          5830,
          19400,
          9530,
          10900,
          13000,
          20100,
          33900,
          28300,
          11100,
          9350,
          9860,
          7300,
          1420,
          22700,
          15400,
          6730,
          28700,
          11200,
          6710,
          22300,
          4410,
          8430,
          17400,
          45700,
          29600,
          36200,
          8000,
          9470,
          20100,
          75200,
          18300,
          16300,
          29600,
          21100,
          11400,
          21100,
          10500,
          15900,
          3910,
          7710,
          14000,
          6440,
          3720,
          1990,
          45500,
          32300,
          45300,
          4280,
          15400,
          7290,
          9960,
          5600,
          21800,
          27200,
          17800,
          23100,
          45400,
          12700,
          20400,
          25200,
          28700,
          30400,
          32500,
          8560,
          9920,
          14200,
          13500,
          10400,
          18000,
          9940,
          7820,
          57600,
          36200,
          17100,
          4240,
          16500,
          4490
         ],
         "z": [
          76.3,
          76.5,
          76.8,
          75.8,
          73.3,
          69.1,
          73.8,
          76,
          70.4,
          76.7,
          70.4,
          80,
          71.4,
          71.6,
          76.8,
          74.2,
          77.1,
          73.9,
          72.5,
          79.1,
          74.6,
          76.4,
          80.4,
          76.3,
          79.9,
          77.5,
          74.6,
          76.7,
          70.5,
          74.1,
          61.7,
          76,
          62.9,
          72.8,
          80.4,
          71.3,
          71.3,
          74.5,
          66.2,
          69.9,
          74.5,
          80.4,
          81.4,
          81.7,
          74.7,
          75.8,
          68.4,
          78.2,
          73.1,
          79.8,
          76.1,
          73.2,
          74,
          74.5,
          77.9,
          73.4,
          69.7,
          66.2,
          76.4,
          73.5,
          66.8,
          68.3,
          80.7,
          80.9,
          76.1,
          65.3,
          77.8,
          74.1,
          77.9,
          69,
          76.3,
          79.8,
          73.7,
          69.2,
          75.1,
          74.7,
          73.4,
          75.5,
          79.5,
          80.1,
          81.9,
          74.4,
          71.6,
          70.3,
          76.6,
          76.9,
          78.2,
          67.9,
          70.4,
          76.5,
          80.3,
          76.4,
          68.8,
          75.4,
          73.1
         ]
        },
        {
         "hovertemplate": "cluster_complete=0<br>total_fer=%{x}<br>income=%{y}<br>life_expec=%{z}<extra></extra>",
         "legendgroup": "0",
         "marker": {
          "color": "#00cc96",
          "symbol": "circle"
         },
         "mode": "markers",
         "name": "0",
         "scene": "scene",
         "showlegend": true,
         "type": "scatter3d",
         "x": [
          1.93,
          1.44,
          1.63,
          1.87,
          1.87,
          2.03,
          1.39,
          2.2,
          1.39,
          1.95,
          2.07,
          1.98,
          1.52,
          1.93
         ],
         "y": [
          41400,
          43200,
          40700,
          44000,
          39800,
          36900,
          40400,
          38800,
          35800,
          62300,
          125000,
          42900,
          55500,
          49400
         ],
         "z": [
          82,
          80.5,
          81.3,
          79.5,
          80,
          81.4,
          80.1,
          82,
          82.8,
          81,
          79.5,
          81.5,
          82.2,
          78.7
         ]
        },
        {
         "hovertemplate": "cluster_complete=2<br>total_fer=%{x}<br>income=%{y}<br>life_expec=%{z}<extra></extra>",
         "legendgroup": "2",
         "marker": {
          "color": "#ab63fa",
          "symbol": "circle"
         },
         "mode": "markers",
         "name": "2",
         "scene": "scene",
         "showlegend": true,
         "type": "scatter3d",
         "x": [
          1.63,
          1.36,
          1.15
         ],
         "y": [
          91700,
          28300,
          72100
         ],
         "z": [
          81.3,
          80.3,
          82.7
         ]
        },
        {
         "hovertemplate": "cluster_complete=3<br>total_fer=%{x}<br>income=%{y}<br>life_expec=%{z}<extra></extra>",
         "legendgroup": "3",
         "marker": {
          "color": "#FFA15A",
          "symbol": "circle"
         },
         "mode": "markers",
         "name": "3",
         "scene": "scene",
         "showlegend": true,
         "type": "scatter3d",
         "x": [
          5.84
         ],
         "y": [
          5150
         ],
         "z": [
          60.5
         ]
        }
       ],
       "layout": {
        "legend": {
         "title": {
          "text": "cluster_complete"
         },
         "tracegroupgap": 0
        },
        "margin": {
         "t": 60
        },
        "scene": {
         "domain": {
          "x": [
           0,
           1
          ],
          "y": [
           0,
           1
          ]
         },
         "xaxis": {
          "title": {
           "text": "total_fer"
          }
         },
         "yaxis": {
          "title": {
           "text": "income"
          }
         },
         "zaxis": {
          "title": {
           "text": "life_expec"
          }
         }
        },
        "template": {
         "data": {
          "bar": [
           {
            "error_x": {
             "color": "#2a3f5f"
            },
            "error_y": {
             "color": "#2a3f5f"
            },
            "marker": {
             "line": {
              "color": "#E5ECF6",
              "width": 0.5
             },
             "pattern": {
              "fillmode": "overlay",
              "size": 10,
              "solidity": 0.2
             }
            },
            "type": "bar"
           }
          ],
          "barpolar": [
           {
            "marker": {
             "line": {
              "color": "#E5ECF6",
              "width": 0.5
             },
             "pattern": {
              "fillmode": "overlay",
              "size": 10,
              "solidity": 0.2
             }
            },
            "type": "barpolar"
           }
          ],
          "carpet": [
           {
            "aaxis": {
             "endlinecolor": "#2a3f5f",
             "gridcolor": "white",
             "linecolor": "white",
             "minorgridcolor": "white",
             "startlinecolor": "#2a3f5f"
            },
            "baxis": {
             "endlinecolor": "#2a3f5f",
             "gridcolor": "white",
             "linecolor": "white",
             "minorgridcolor": "white",
             "startlinecolor": "#2a3f5f"
            },
            "type": "carpet"
           }
          ],
          "choropleth": [
           {
            "colorbar": {
             "outlinewidth": 0,
             "ticks": ""
            },
            "type": "choropleth"
           }
          ],
          "contour": [
           {
            "colorbar": {
             "outlinewidth": 0,
             "ticks": ""
            },
            "colorscale": [
             [
              0,
              "#0d0887"
             ],
             [
              0.1111111111111111,
              "#46039f"
             ],
             [
              0.2222222222222222,
              "#7201a8"
             ],
             [
              0.3333333333333333,
              "#9c179e"
             ],
             [
              0.4444444444444444,
              "#bd3786"
             ],
             [
              0.5555555555555556,
              "#d8576b"
             ],
             [
              0.6666666666666666,
              "#ed7953"
             ],
             [
              0.7777777777777778,
              "#fb9f3a"
             ],
             [
              0.8888888888888888,
              "#fdca26"
             ],
             [
              1,
              "#f0f921"
             ]
            ],
            "type": "contour"
           }
          ],
          "contourcarpet": [
           {
            "colorbar": {
             "outlinewidth": 0,
             "ticks": ""
            },
            "type": "contourcarpet"
           }
          ],
          "heatmap": [
           {
            "colorbar": {
             "outlinewidth": 0,
             "ticks": ""
            },
            "colorscale": [
             [
              0,
              "#0d0887"
             ],
             [
              0.1111111111111111,
              "#46039f"
             ],
             [
              0.2222222222222222,
              "#7201a8"
             ],
             [
              0.3333333333333333,
              "#9c179e"
             ],
             [
              0.4444444444444444,
              "#bd3786"
             ],
             [
              0.5555555555555556,
              "#d8576b"
             ],
             [
              0.6666666666666666,
              "#ed7953"
             ],
             [
              0.7777777777777778,
              "#fb9f3a"
             ],
             [
              0.8888888888888888,
              "#fdca26"
             ],
             [
              1,
              "#f0f921"
             ]
            ],
            "type": "heatmap"
           }
          ],
          "heatmapgl": [
           {
            "colorbar": {
             "outlinewidth": 0,
             "ticks": ""
            },
            "colorscale": [
             [
              0,
              "#0d0887"
             ],
             [
              0.1111111111111111,
              "#46039f"
             ],
             [
              0.2222222222222222,
              "#7201a8"
             ],
             [
              0.3333333333333333,
              "#9c179e"
             ],
             [
              0.4444444444444444,
              "#bd3786"
             ],
             [
              0.5555555555555556,
              "#d8576b"
             ],
             [
              0.6666666666666666,
              "#ed7953"
             ],
             [
              0.7777777777777778,
              "#fb9f3a"
             ],
             [
              0.8888888888888888,
              "#fdca26"
             ],
             [
              1,
              "#f0f921"
             ]
            ],
            "type": "heatmapgl"
           }
          ],
          "histogram": [
           {
            "marker": {
             "pattern": {
              "fillmode": "overlay",
              "size": 10,
              "solidity": 0.2
             }
            },
            "type": "histogram"
           }
          ],
          "histogram2d": [
           {
            "colorbar": {
             "outlinewidth": 0,
             "ticks": ""
            },
            "colorscale": [
             [
              0,
              "#0d0887"
             ],
             [
              0.1111111111111111,
              "#46039f"
             ],
             [
              0.2222222222222222,
              "#7201a8"
             ],
             [
              0.3333333333333333,
              "#9c179e"
             ],
             [
              0.4444444444444444,
              "#bd3786"
             ],
             [
              0.5555555555555556,
              "#d8576b"
             ],
             [
              0.6666666666666666,
              "#ed7953"
             ],
             [
              0.7777777777777778,
              "#fb9f3a"
             ],
             [
              0.8888888888888888,
              "#fdca26"
             ],
             [
              1,
              "#f0f921"
             ]
            ],
            "type": "histogram2d"
           }
          ],
          "histogram2dcontour": [
           {
            "colorbar": {
             "outlinewidth": 0,
             "ticks": ""
            },
            "colorscale": [
             [
              0,
              "#0d0887"
             ],
             [
              0.1111111111111111,
              "#46039f"
             ],
             [
              0.2222222222222222,
              "#7201a8"
             ],
             [
              0.3333333333333333,
              "#9c179e"
             ],
             [
              0.4444444444444444,
              "#bd3786"
             ],
             [
              0.5555555555555556,
              "#d8576b"
             ],
             [
              0.6666666666666666,
              "#ed7953"
             ],
             [
              0.7777777777777778,
              "#fb9f3a"
             ],
             [
              0.8888888888888888,
              "#fdca26"
             ],
             [
              1,
              "#f0f921"
             ]
            ],
            "type": "histogram2dcontour"
           }
          ],
          "mesh3d": [
           {
            "colorbar": {
             "outlinewidth": 0,
             "ticks": ""
            },
            "type": "mesh3d"
           }
          ],
          "parcoords": [
           {
            "line": {
             "colorbar": {
              "outlinewidth": 0,
              "ticks": ""
             }
            },
            "type": "parcoords"
           }
          ],
          "pie": [
           {
            "automargin": true,
            "type": "pie"
           }
          ],
          "scatter": [
           {
            "fillpattern": {
             "fillmode": "overlay",
             "size": 10,
             "solidity": 0.2
            },
            "type": "scatter"
           }
          ],
          "scatter3d": [
           {
            "line": {
             "colorbar": {
              "outlinewidth": 0,
              "ticks": ""
             }
            },
            "marker": {
             "colorbar": {
              "outlinewidth": 0,
              "ticks": ""
             }
            },
            "type": "scatter3d"
           }
          ],
          "scattercarpet": [
           {
            "marker": {
             "colorbar": {
              "outlinewidth": 0,
              "ticks": ""
             }
            },
            "type": "scattercarpet"
           }
          ],
          "scattergeo": [
           {
            "marker": {
             "colorbar": {
              "outlinewidth": 0,
              "ticks": ""
             }
            },
            "type": "scattergeo"
           }
          ],
          "scattergl": [
           {
            "marker": {
             "colorbar": {
              "outlinewidth": 0,
              "ticks": ""
             }
            },
            "type": "scattergl"
           }
          ],
          "scattermapbox": [
           {
            "marker": {
             "colorbar": {
              "outlinewidth": 0,
              "ticks": ""
             }
            },
            "type": "scattermapbox"
           }
          ],
          "scatterpolar": [
           {
            "marker": {
             "colorbar": {
              "outlinewidth": 0,
              "ticks": ""
             }
            },
            "type": "scatterpolar"
           }
          ],
          "scatterpolargl": [
           {
            "marker": {
             "colorbar": {
              "outlinewidth": 0,
              "ticks": ""
             }
            },
            "type": "scatterpolargl"
           }
          ],
          "scatterternary": [
           {
            "marker": {
             "colorbar": {
              "outlinewidth": 0,
              "ticks": ""
             }
            },
            "type": "scatterternary"
           }
          ],
          "surface": [
           {
            "colorbar": {
             "outlinewidth": 0,
             "ticks": ""
            },
            "colorscale": [
             [
              0,
              "#0d0887"
             ],
             [
              0.1111111111111111,
              "#46039f"
             ],
             [
              0.2222222222222222,
              "#7201a8"
             ],
             [
              0.3333333333333333,
              "#9c179e"
             ],
             [
              0.4444444444444444,
              "#bd3786"
             ],
             [
              0.5555555555555556,
              "#d8576b"
             ],
             [
              0.6666666666666666,
              "#ed7953"
             ],
             [
              0.7777777777777778,
              "#fb9f3a"
             ],
             [
              0.8888888888888888,
              "#fdca26"
             ],
             [
              1,
              "#f0f921"
             ]
            ],
            "type": "surface"
           }
          ],
          "table": [
           {
            "cells": {
             "fill": {
              "color": "#EBF0F8"
             },
             "line": {
              "color": "white"
             }
            },
            "header": {
             "fill": {
              "color": "#C8D4E3"
             },
             "line": {
              "color": "white"
             }
            },
            "type": "table"
           }
          ]
         },
         "layout": {
          "annotationdefaults": {
           "arrowcolor": "#2a3f5f",
           "arrowhead": 0,
           "arrowwidth": 1
          },
          "autotypenumbers": "strict",
          "coloraxis": {
           "colorbar": {
            "outlinewidth": 0,
            "ticks": ""
           }
          },
          "colorscale": {
           "diverging": [
            [
             0,
             "#8e0152"
            ],
            [
             0.1,
             "#c51b7d"
            ],
            [
             0.2,
             "#de77ae"
            ],
            [
             0.3,
             "#f1b6da"
            ],
            [
             0.4,
             "#fde0ef"
            ],
            [
             0.5,
             "#f7f7f7"
            ],
            [
             0.6,
             "#e6f5d0"
            ],
            [
             0.7,
             "#b8e186"
            ],
            [
             0.8,
             "#7fbc41"
            ],
            [
             0.9,
             "#4d9221"
            ],
            [
             1,
             "#276419"
            ]
           ],
           "sequential": [
            [
             0,
             "#0d0887"
            ],
            [
             0.1111111111111111,
             "#46039f"
            ],
            [
             0.2222222222222222,
             "#7201a8"
            ],
            [
             0.3333333333333333,
             "#9c179e"
            ],
            [
             0.4444444444444444,
             "#bd3786"
            ],
            [
             0.5555555555555556,
             "#d8576b"
            ],
            [
             0.6666666666666666,
             "#ed7953"
            ],
            [
             0.7777777777777778,
             "#fb9f3a"
            ],
            [
             0.8888888888888888,
             "#fdca26"
            ],
            [
             1,
             "#f0f921"
            ]
           ],
           "sequentialminus": [
            [
             0,
             "#0d0887"
            ],
            [
             0.1111111111111111,
             "#46039f"
            ],
            [
             0.2222222222222222,
             "#7201a8"
            ],
            [
             0.3333333333333333,
             "#9c179e"
            ],
            [
             0.4444444444444444,
             "#bd3786"
            ],
            [
             0.5555555555555556,
             "#d8576b"
            ],
            [
             0.6666666666666666,
             "#ed7953"
            ],
            [
             0.7777777777777778,
             "#fb9f3a"
            ],
            [
             0.8888888888888888,
             "#fdca26"
            ],
            [
             1,
             "#f0f921"
            ]
           ]
          },
          "colorway": [
           "#636efa",
           "#EF553B",
           "#00cc96",
           "#ab63fa",
           "#FFA15A",
           "#19d3f3",
           "#FF6692",
           "#B6E880",
           "#FF97FF",
           "#FECB52"
          ],
          "font": {
           "color": "#2a3f5f"
          },
          "geo": {
           "bgcolor": "white",
           "lakecolor": "white",
           "landcolor": "#E5ECF6",
           "showlakes": true,
           "showland": true,
           "subunitcolor": "white"
          },
          "hoverlabel": {
           "align": "left"
          },
          "hovermode": "closest",
          "mapbox": {
           "style": "light"
          },
          "paper_bgcolor": "white",
          "plot_bgcolor": "#E5ECF6",
          "polar": {
           "angularaxis": {
            "gridcolor": "white",
            "linecolor": "white",
            "ticks": ""
           },
           "bgcolor": "#E5ECF6",
           "radialaxis": {
            "gridcolor": "white",
            "linecolor": "white",
            "ticks": ""
           }
          },
          "scene": {
           "xaxis": {
            "backgroundcolor": "#E5ECF6",
            "gridcolor": "white",
            "gridwidth": 2,
            "linecolor": "white",
            "showbackground": true,
            "ticks": "",
            "zerolinecolor": "white"
           },
           "yaxis": {
            "backgroundcolor": "#E5ECF6",
            "gridcolor": "white",
            "gridwidth": 2,
            "linecolor": "white",
            "showbackground": true,
            "ticks": "",
            "zerolinecolor": "white"
           },
           "zaxis": {
            "backgroundcolor": "#E5ECF6",
            "gridcolor": "white",
            "gridwidth": 2,
            "linecolor": "white",
            "showbackground": true,
            "ticks": "",
            "zerolinecolor": "white"
           }
          },
          "shapedefaults": {
           "line": {
            "color": "#2a3f5f"
           }
          },
          "ternary": {
           "aaxis": {
            "gridcolor": "white",
            "linecolor": "white",
            "ticks": ""
           },
           "baxis": {
            "gridcolor": "white",
            "linecolor": "white",
            "ticks": ""
           },
           "bgcolor": "#E5ECF6",
           "caxis": {
            "gridcolor": "white",
            "linecolor": "white",
            "ticks": ""
           }
          },
          "title": {
           "x": 0.05
          },
          "xaxis": {
           "automargin": true,
           "gridcolor": "white",
           "linecolor": "white",
           "ticks": "",
           "title": {
            "standoff": 15
           },
           "zerolinecolor": "white",
           "zerolinewidth": 2
          },
          "yaxis": {
           "automargin": true,
           "gridcolor": "white",
           "linecolor": "white",
           "ticks": "",
           "title": {
            "standoff": 15
           },
           "zerolinecolor": "white",
           "zerolinewidth": 2
          }
         }
        }
       }
      }
     },
     "metadata": {},
     "output_type": "display_data"
    },
    {
     "data": {
      "application/vnd.plotly.v1+json": {
       "config": {
        "plotlyServerURL": "https://plot.ly"
       },
       "data": [
        {
         "hovertemplate": "cluster_complete=4<br>gdpp=%{x}<br>income=%{y}<br>life_expec=%{z}<extra></extra>",
         "legendgroup": "4",
         "marker": {
          "color": "#636efa",
          "symbol": "circle"
         },
         "mode": "markers",
         "name": "4",
         "scene": "scene",
         "showlegend": true,
         "type": "scatter3d",
         "x": [
          553,
          3530,
          758,
          2180,
          6350,
          575,
          231,
          786,
          1310,
          446,
          897,
          769,
          334,
          2740,
          1220,
          17100,
          3650,
          562,
          1310,
          648,
          547,
          3040,
          662,
          4500,
          967,
          1490,
          880,
          1140,
          1170,
          327,
          413,
          459,
          708,
          1200,
          2860,
          419,
          5190,
          348,
          563,
          3450,
          1000,
          399,
          1290,
          7280,
          1480,
          738,
          702,
          3600,
          488,
          3550,
          595,
          2970,
          1310,
          1460
         ],
         "y": [
          1610,
          5900,
          1820,
          6420,
          13300,
          1430,
          764,
          2520,
          2660,
          888,
          1930,
          1410,
          609,
          5190,
          2690,
          33700,
          7350,
          1660,
          3060,
          1190,
          1390,
          5840,
          1500,
          12700,
          2480,
          1730,
          2790,
          3980,
          2380,
          700,
          1390,
          1030,
          1870,
          3320,
          3340,
          918,
          8460,
          814,
          1350,
          5400,
          2180,
          1220,
          1780,
          12000,
          3370,
          2110,
          2090,
          1850,
          1210,
          4980,
          1540,
          2950,
          4480,
          3280
         ],
         "z": [
          56.2,
          60.1,
          61.8,
          72.1,
          57.1,
          57.9,
          57.7,
          66.1,
          57.3,
          47.5,
          56.5,
          65.9,
          57.5,
          60.4,
          56.3,
          60.9,
          65.3,
          65.5,
          62.2,
          58,
          55.6,
          65.5,
          32.1,
          67.2,
          62.8,
          60.7,
          68.5,
          63.8,
          46.5,
          60.8,
          60.8,
          53.1,
          59.5,
          68.2,
          65.4,
          54.5,
          58.6,
          58.8,
          64.6,
          71.5,
          64,
          55,
          61.7,
          54.3,
          66.3,
          69.6,
          59.3,
          71.1,
          58.7,
          69.9,
          56.8,
          63,
          67.5,
          52
         ]
        },
        {
         "hovertemplate": "cluster_complete=1<br>gdpp=%{x}<br>income=%{y}<br>life_expec=%{z}<extra></extra>",
         "legendgroup": "1",
         "marker": {
          "color": "#EF553B",
          "symbol": "circle"
         },
         "mode": "markers",
         "name": "1",
         "scene": "scene",
         "showlegend": true,
         "type": "scatter3d",
         "x": [
          4090,
          4460,
          12200,
          10300,
          3220,
          5840,
          28000,
          20700,
          758,
          16000,
          6030,
          44400,
          4340,
          1980,
          4610,
          11200,
          35300,
          6840,
          3310,
          12900,
          4560,
          6250,
          8200,
          13500,
          30800,
          19800,
          5450,
          4660,
          2600,
          2990,
          482,
          14600,
          8750,
          2960,
          26900,
          7370,
          2830,
          13100,
          1350,
          3110,
          6530,
          48700,
          30600,
          35800,
          4680,
          3680,
          9070,
          38500,
          11300,
          8860,
          12100,
          12000,
          4540,
          9070,
          7100,
          8000,
          1630,
          2650,
          6680,
          2830,
          988,
          592,
          50300,
          33700,
          19300,
          1040,
          8080,
          3230,
          5020,
          2130,
          12600,
          22500,
          8230,
          10700,
          19300,
          5410,
          10800,
          16600,
          23400,
          22100,
          30700,
          2810,
          6230,
          8300,
          5080,
          4140,
          10700,
          4440,
          2970,
          35000,
          38900,
          11900,
          1380,
          13500,
          1310
         ],
         "y": [
          9930,
          12900,
          19100,
          18700,
          6700,
          16000,
          22900,
          41100,
          2440,
          15300,
          16200,
          41100,
          7880,
          5410,
          9720,
          14500,
          80600,
          15300,
          5830,
          19400,
          9530,
          10900,
          13000,
          20100,
          33900,
          28300,
          11100,
          9350,
          9860,
          7300,
          1420,
          22700,
          15400,
          6730,
          28700,
          11200,
          6710,
          22300,
          4410,
          8430,
          17400,
          45700,
          29600,
          36200,
          8000,
          9470,
          20100,
          75200,
          18300,
          16300,
          29600,
          21100,
          11400,
          21100,
          10500,
          15900,
          3910,
          7710,
          14000,
          6440,
          3720,
          1990,
          45500,
          32300,
          45300,
          4280,
          15400,
          7290,
          9960,
          5600,
          21800,
          27200,
          17800,
          23100,
          45400,
          12700,
          20400,
          25200,
          28700,
          30400,
          32500,
          8560,
          9920,
          14200,
          13500,
          10400,
          18000,
          9940,
          7820,
          57600,
          36200,
          17100,
          4240,
          16500,
          4490
         ],
         "z": [
          76.3,
          76.5,
          76.8,
          75.8,
          73.3,
          69.1,
          73.8,
          76,
          70.4,
          76.7,
          70.4,
          80,
          71.4,
          71.6,
          76.8,
          74.2,
          77.1,
          73.9,
          72.5,
          79.1,
          74.6,
          76.4,
          80.4,
          76.3,
          79.9,
          77.5,
          74.6,
          76.7,
          70.5,
          74.1,
          61.7,
          76,
          62.9,
          72.8,
          80.4,
          71.3,
          71.3,
          74.5,
          66.2,
          69.9,
          74.5,
          80.4,
          81.4,
          81.7,
          74.7,
          75.8,
          68.4,
          78.2,
          73.1,
          79.8,
          76.1,
          73.2,
          74,
          74.5,
          77.9,
          73.4,
          69.7,
          66.2,
          76.4,
          73.5,
          66.8,
          68.3,
          80.7,
          80.9,
          76.1,
          65.3,
          77.8,
          74.1,
          77.9,
          69,
          76.3,
          79.8,
          73.7,
          69.2,
          75.1,
          74.7,
          73.4,
          75.5,
          79.5,
          80.1,
          81.9,
          74.4,
          71.6,
          70.3,
          76.6,
          76.9,
          78.2,
          67.9,
          70.4,
          76.5,
          80.3,
          76.4,
          68.8,
          75.4,
          73.1
         ]
        },
        {
         "hovertemplate": "cluster_complete=0<br>gdpp=%{x}<br>income=%{y}<br>life_expec=%{z}<extra></extra>",
         "legendgroup": "0",
         "marker": {
          "color": "#00cc96",
          "symbol": "circle"
         },
         "mode": "markers",
         "name": "0",
         "scene": "scene",
         "showlegend": true,
         "type": "scatter3d",
         "x": [
          51900,
          46900,
          47400,
          58000,
          46200,
          40600,
          41800,
          41900,
          44500,
          87800,
          70300,
          52100,
          74600,
          48400
         ],
         "y": [
          41400,
          43200,
          40700,
          44000,
          39800,
          36900,
          40400,
          38800,
          35800,
          62300,
          125000,
          42900,
          55500,
          49400
         ],
         "z": [
          82,
          80.5,
          81.3,
          79.5,
          80,
          81.4,
          80.1,
          82,
          82.8,
          81,
          79.5,
          81.5,
          82.2,
          78.7
         ]
        },
        {
         "hovertemplate": "cluster_complete=2<br>gdpp=%{x}<br>income=%{y}<br>life_expec=%{z}<extra></extra>",
         "legendgroup": "2",
         "marker": {
          "color": "#ab63fa",
          "symbol": "circle"
         },
         "mode": "markers",
         "name": "2",
         "scene": "scene",
         "showlegend": true,
         "type": "scatter3d",
         "x": [
          105000,
          21100,
          46600
         ],
         "y": [
          91700,
          28300,
          72100
         ],
         "z": [
          81.3,
          80.3,
          82.7
         ]
        },
        {
         "hovertemplate": "cluster_complete=3<br>gdpp=%{x}<br>income=%{y}<br>life_expec=%{z}<extra></extra>",
         "legendgroup": "3",
         "marker": {
          "color": "#FFA15A",
          "symbol": "circle"
         },
         "mode": "markers",
         "name": "3",
         "scene": "scene",
         "showlegend": true,
         "type": "scatter3d",
         "x": [
          2330
         ],
         "y": [
          5150
         ],
         "z": [
          60.5
         ]
        }
       ],
       "layout": {
        "legend": {
         "title": {
          "text": "cluster_complete"
         },
         "tracegroupgap": 0
        },
        "margin": {
         "t": 60
        },
        "scene": {
         "domain": {
          "x": [
           0,
           1
          ],
          "y": [
           0,
           1
          ]
         },
         "xaxis": {
          "title": {
           "text": "gdpp"
          }
         },
         "yaxis": {
          "title": {
           "text": "income"
          }
         },
         "zaxis": {
          "title": {
           "text": "life_expec"
          }
         }
        },
        "template": {
         "data": {
          "bar": [
           {
            "error_x": {
             "color": "#2a3f5f"
            },
            "error_y": {
             "color": "#2a3f5f"
            },
            "marker": {
             "line": {
              "color": "#E5ECF6",
              "width": 0.5
             },
             "pattern": {
              "fillmode": "overlay",
              "size": 10,
              "solidity": 0.2
             }
            },
            "type": "bar"
           }
          ],
          "barpolar": [
           {
            "marker": {
             "line": {
              "color": "#E5ECF6",
              "width": 0.5
             },
             "pattern": {
              "fillmode": "overlay",
              "size": 10,
              "solidity": 0.2
             }
            },
            "type": "barpolar"
           }
          ],
          "carpet": [
           {
            "aaxis": {
             "endlinecolor": "#2a3f5f",
             "gridcolor": "white",
             "linecolor": "white",
             "minorgridcolor": "white",
             "startlinecolor": "#2a3f5f"
            },
            "baxis": {
             "endlinecolor": "#2a3f5f",
             "gridcolor": "white",
             "linecolor": "white",
             "minorgridcolor": "white",
             "startlinecolor": "#2a3f5f"
            },
            "type": "carpet"
           }
          ],
          "choropleth": [
           {
            "colorbar": {
             "outlinewidth": 0,
             "ticks": ""
            },
            "type": "choropleth"
           }
          ],
          "contour": [
           {
            "colorbar": {
             "outlinewidth": 0,
             "ticks": ""
            },
            "colorscale": [
             [
              0,
              "#0d0887"
             ],
             [
              0.1111111111111111,
              "#46039f"
             ],
             [
              0.2222222222222222,
              "#7201a8"
             ],
             [
              0.3333333333333333,
              "#9c179e"
             ],
             [
              0.4444444444444444,
              "#bd3786"
             ],
             [
              0.5555555555555556,
              "#d8576b"
             ],
             [
              0.6666666666666666,
              "#ed7953"
             ],
             [
              0.7777777777777778,
              "#fb9f3a"
             ],
             [
              0.8888888888888888,
              "#fdca26"
             ],
             [
              1,
              "#f0f921"
             ]
            ],
            "type": "contour"
           }
          ],
          "contourcarpet": [
           {
            "colorbar": {
             "outlinewidth": 0,
             "ticks": ""
            },
            "type": "contourcarpet"
           }
          ],
          "heatmap": [
           {
            "colorbar": {
             "outlinewidth": 0,
             "ticks": ""
            },
            "colorscale": [
             [
              0,
              "#0d0887"
             ],
             [
              0.1111111111111111,
              "#46039f"
             ],
             [
              0.2222222222222222,
              "#7201a8"
             ],
             [
              0.3333333333333333,
              "#9c179e"
             ],
             [
              0.4444444444444444,
              "#bd3786"
             ],
             [
              0.5555555555555556,
              "#d8576b"
             ],
             [
              0.6666666666666666,
              "#ed7953"
             ],
             [
              0.7777777777777778,
              "#fb9f3a"
             ],
             [
              0.8888888888888888,
              "#fdca26"
             ],
             [
              1,
              "#f0f921"
             ]
            ],
            "type": "heatmap"
           }
          ],
          "heatmapgl": [
           {
            "colorbar": {
             "outlinewidth": 0,
             "ticks": ""
            },
            "colorscale": [
             [
              0,
              "#0d0887"
             ],
             [
              0.1111111111111111,
              "#46039f"
             ],
             [
              0.2222222222222222,
              "#7201a8"
             ],
             [
              0.3333333333333333,
              "#9c179e"
             ],
             [
              0.4444444444444444,
              "#bd3786"
             ],
             [
              0.5555555555555556,
              "#d8576b"
             ],
             [
              0.6666666666666666,
              "#ed7953"
             ],
             [
              0.7777777777777778,
              "#fb9f3a"
             ],
             [
              0.8888888888888888,
              "#fdca26"
             ],
             [
              1,
              "#f0f921"
             ]
            ],
            "type": "heatmapgl"
           }
          ],
          "histogram": [
           {
            "marker": {
             "pattern": {
              "fillmode": "overlay",
              "size": 10,
              "solidity": 0.2
             }
            },
            "type": "histogram"
           }
          ],
          "histogram2d": [
           {
            "colorbar": {
             "outlinewidth": 0,
             "ticks": ""
            },
            "colorscale": [
             [
              0,
              "#0d0887"
             ],
             [
              0.1111111111111111,
              "#46039f"
             ],
             [
              0.2222222222222222,
              "#7201a8"
             ],
             [
              0.3333333333333333,
              "#9c179e"
             ],
             [
              0.4444444444444444,
              "#bd3786"
             ],
             [
              0.5555555555555556,
              "#d8576b"
             ],
             [
              0.6666666666666666,
              "#ed7953"
             ],
             [
              0.7777777777777778,
              "#fb9f3a"
             ],
             [
              0.8888888888888888,
              "#fdca26"
             ],
             [
              1,
              "#f0f921"
             ]
            ],
            "type": "histogram2d"
           }
          ],
          "histogram2dcontour": [
           {
            "colorbar": {
             "outlinewidth": 0,
             "ticks": ""
            },
            "colorscale": [
             [
              0,
              "#0d0887"
             ],
             [
              0.1111111111111111,
              "#46039f"
             ],
             [
              0.2222222222222222,
              "#7201a8"
             ],
             [
              0.3333333333333333,
              "#9c179e"
             ],
             [
              0.4444444444444444,
              "#bd3786"
             ],
             [
              0.5555555555555556,
              "#d8576b"
             ],
             [
              0.6666666666666666,
              "#ed7953"
             ],
             [
              0.7777777777777778,
              "#fb9f3a"
             ],
             [
              0.8888888888888888,
              "#fdca26"
             ],
             [
              1,
              "#f0f921"
             ]
            ],
            "type": "histogram2dcontour"
           }
          ],
          "mesh3d": [
           {
            "colorbar": {
             "outlinewidth": 0,
             "ticks": ""
            },
            "type": "mesh3d"
           }
          ],
          "parcoords": [
           {
            "line": {
             "colorbar": {
              "outlinewidth": 0,
              "ticks": ""
             }
            },
            "type": "parcoords"
           }
          ],
          "pie": [
           {
            "automargin": true,
            "type": "pie"
           }
          ],
          "scatter": [
           {
            "fillpattern": {
             "fillmode": "overlay",
             "size": 10,
             "solidity": 0.2
            },
            "type": "scatter"
           }
          ],
          "scatter3d": [
           {
            "line": {
             "colorbar": {
              "outlinewidth": 0,
              "ticks": ""
             }
            },
            "marker": {
             "colorbar": {
              "outlinewidth": 0,
              "ticks": ""
             }
            },
            "type": "scatter3d"
           }
          ],
          "scattercarpet": [
           {
            "marker": {
             "colorbar": {
              "outlinewidth": 0,
              "ticks": ""
             }
            },
            "type": "scattercarpet"
           }
          ],
          "scattergeo": [
           {
            "marker": {
             "colorbar": {
              "outlinewidth": 0,
              "ticks": ""
             }
            },
            "type": "scattergeo"
           }
          ],
          "scattergl": [
           {
            "marker": {
             "colorbar": {
              "outlinewidth": 0,
              "ticks": ""
             }
            },
            "type": "scattergl"
           }
          ],
          "scattermapbox": [
           {
            "marker": {
             "colorbar": {
              "outlinewidth": 0,
              "ticks": ""
             }
            },
            "type": "scattermapbox"
           }
          ],
          "scatterpolar": [
           {
            "marker": {
             "colorbar": {
              "outlinewidth": 0,
              "ticks": ""
             }
            },
            "type": "scatterpolar"
           }
          ],
          "scatterpolargl": [
           {
            "marker": {
             "colorbar": {
              "outlinewidth": 0,
              "ticks": ""
             }
            },
            "type": "scatterpolargl"
           }
          ],
          "scatterternary": [
           {
            "marker": {
             "colorbar": {
              "outlinewidth": 0,
              "ticks": ""
             }
            },
            "type": "scatterternary"
           }
          ],
          "surface": [
           {
            "colorbar": {
             "outlinewidth": 0,
             "ticks": ""
            },
            "colorscale": [
             [
              0,
              "#0d0887"
             ],
             [
              0.1111111111111111,
              "#46039f"
             ],
             [
              0.2222222222222222,
              "#7201a8"
             ],
             [
              0.3333333333333333,
              "#9c179e"
             ],
             [
              0.4444444444444444,
              "#bd3786"
             ],
             [
              0.5555555555555556,
              "#d8576b"
             ],
             [
              0.6666666666666666,
              "#ed7953"
             ],
             [
              0.7777777777777778,
              "#fb9f3a"
             ],
             [
              0.8888888888888888,
              "#fdca26"
             ],
             [
              1,
              "#f0f921"
             ]
            ],
            "type": "surface"
           }
          ],
          "table": [
           {
            "cells": {
             "fill": {
              "color": "#EBF0F8"
             },
             "line": {
              "color": "white"
             }
            },
            "header": {
             "fill": {
              "color": "#C8D4E3"
             },
             "line": {
              "color": "white"
             }
            },
            "type": "table"
           }
          ]
         },
         "layout": {
          "annotationdefaults": {
           "arrowcolor": "#2a3f5f",
           "arrowhead": 0,
           "arrowwidth": 1
          },
          "autotypenumbers": "strict",
          "coloraxis": {
           "colorbar": {
            "outlinewidth": 0,
            "ticks": ""
           }
          },
          "colorscale": {
           "diverging": [
            [
             0,
             "#8e0152"
            ],
            [
             0.1,
             "#c51b7d"
            ],
            [
             0.2,
             "#de77ae"
            ],
            [
             0.3,
             "#f1b6da"
            ],
            [
             0.4,
             "#fde0ef"
            ],
            [
             0.5,
             "#f7f7f7"
            ],
            [
             0.6,
             "#e6f5d0"
            ],
            [
             0.7,
             "#b8e186"
            ],
            [
             0.8,
             "#7fbc41"
            ],
            [
             0.9,
             "#4d9221"
            ],
            [
             1,
             "#276419"
            ]
           ],
           "sequential": [
            [
             0,
             "#0d0887"
            ],
            [
             0.1111111111111111,
             "#46039f"
            ],
            [
             0.2222222222222222,
             "#7201a8"
            ],
            [
             0.3333333333333333,
             "#9c179e"
            ],
            [
             0.4444444444444444,
             "#bd3786"
            ],
            [
             0.5555555555555556,
             "#d8576b"
            ],
            [
             0.6666666666666666,
             "#ed7953"
            ],
            [
             0.7777777777777778,
             "#fb9f3a"
            ],
            [
             0.8888888888888888,
             "#fdca26"
            ],
            [
             1,
             "#f0f921"
            ]
           ],
           "sequentialminus": [
            [
             0,
             "#0d0887"
            ],
            [
             0.1111111111111111,
             "#46039f"
            ],
            [
             0.2222222222222222,
             "#7201a8"
            ],
            [
             0.3333333333333333,
             "#9c179e"
            ],
            [
             0.4444444444444444,
             "#bd3786"
            ],
            [
             0.5555555555555556,
             "#d8576b"
            ],
            [
             0.6666666666666666,
             "#ed7953"
            ],
            [
             0.7777777777777778,
             "#fb9f3a"
            ],
            [
             0.8888888888888888,
             "#fdca26"
            ],
            [
             1,
             "#f0f921"
            ]
           ]
          },
          "colorway": [
           "#636efa",
           "#EF553B",
           "#00cc96",
           "#ab63fa",
           "#FFA15A",
           "#19d3f3",
           "#FF6692",
           "#B6E880",
           "#FF97FF",
           "#FECB52"
          ],
          "font": {
           "color": "#2a3f5f"
          },
          "geo": {
           "bgcolor": "white",
           "lakecolor": "white",
           "landcolor": "#E5ECF6",
           "showlakes": true,
           "showland": true,
           "subunitcolor": "white"
          },
          "hoverlabel": {
           "align": "left"
          },
          "hovermode": "closest",
          "mapbox": {
           "style": "light"
          },
          "paper_bgcolor": "white",
          "plot_bgcolor": "#E5ECF6",
          "polar": {
           "angularaxis": {
            "gridcolor": "white",
            "linecolor": "white",
            "ticks": ""
           },
           "bgcolor": "#E5ECF6",
           "radialaxis": {
            "gridcolor": "white",
            "linecolor": "white",
            "ticks": ""
           }
          },
          "scene": {
           "xaxis": {
            "backgroundcolor": "#E5ECF6",
            "gridcolor": "white",
            "gridwidth": 2,
            "linecolor": "white",
            "showbackground": true,
            "ticks": "",
            "zerolinecolor": "white"
           },
           "yaxis": {
            "backgroundcolor": "#E5ECF6",
            "gridcolor": "white",
            "gridwidth": 2,
            "linecolor": "white",
            "showbackground": true,
            "ticks": "",
            "zerolinecolor": "white"
           },
           "zaxis": {
            "backgroundcolor": "#E5ECF6",
            "gridcolor": "white",
            "gridwidth": 2,
            "linecolor": "white",
            "showbackground": true,
            "ticks": "",
            "zerolinecolor": "white"
           }
          },
          "shapedefaults": {
           "line": {
            "color": "#2a3f5f"
           }
          },
          "ternary": {
           "aaxis": {
            "gridcolor": "white",
            "linecolor": "white",
            "ticks": ""
           },
           "baxis": {
            "gridcolor": "white",
            "linecolor": "white",
            "ticks": ""
           },
           "bgcolor": "#E5ECF6",
           "caxis": {
            "gridcolor": "white",
            "linecolor": "white",
            "ticks": ""
           }
          },
          "title": {
           "x": 0.05
          },
          "xaxis": {
           "automargin": true,
           "gridcolor": "white",
           "linecolor": "white",
           "ticks": "",
           "title": {
            "standoff": 15
           },
           "zerolinecolor": "white",
           "zerolinewidth": 2
          },
          "yaxis": {
           "automargin": true,
           "gridcolor": "white",
           "linecolor": "white",
           "ticks": "",
           "title": {
            "standoff": 15
           },
           "zerolinecolor": "white",
           "zerolinewidth": 2
          }
         }
        }
       }
      }
     },
     "metadata": {},
     "output_type": "display_data"
    }
   ],
   "source": [
    "#%% Gráfico 3D dos clusters\n",
    "\n",
    "# Perspectiva 1\n",
    "fig = px.scatter_3d(dados_paises, \n",
    "                    x='total_fer', \n",
    "                    y='income', \n",
    "                    z='life_expec',\n",
    "                    color='cluster_complete')\n",
    "fig.show()\n",
    "\n",
    "# Perspectiva 2\n",
    "fig = px.scatter_3d(dados_paises, \n",
    "                    x='gdpp', \n",
    "                    y='income', \n",
    "                    z='life_expec',\n",
    "                    color='cluster_complete')\n",
    "fig.show()"
   ]
  },
  {
   "cell_type": "code",
   "execution_count": 77,
   "metadata": {},
   "outputs": [
    {
     "data": {
      "text/html": [
       "<div>\n",
       "<style scoped>\n",
       "    .dataframe tbody tr th:only-of-type {\n",
       "        vertical-align: middle;\n",
       "    }\n",
       "\n",
       "    .dataframe tbody tr th {\n",
       "        vertical-align: top;\n",
       "    }\n",
       "\n",
       "    .dataframe thead th {\n",
       "        text-align: right;\n",
       "    }\n",
       "</style>\n",
       "<table border=\"1\" class=\"dataframe\">\n",
       "  <thead>\n",
       "    <tr style=\"text-align: right;\">\n",
       "      <th>cluster_complete</th>\n",
       "      <th>0</th>\n",
       "      <th>1</th>\n",
       "      <th>2</th>\n",
       "      <th>3</th>\n",
       "      <th>4</th>\n",
       "    </tr>\n",
       "  </thead>\n",
       "  <tbody>\n",
       "    <tr>\n",
       "      <th>child_mort</th>\n",
       "      <td>4.500000</td>\n",
       "      <td>18.874737</td>\n",
       "      <td>4.133333</td>\n",
       "      <td>130.00</td>\n",
       "      <td>81.344444</td>\n",
       "    </tr>\n",
       "    <tr>\n",
       "      <th>exports</th>\n",
       "      <td>39.392857</td>\n",
       "      <td>42.718726</td>\n",
       "      <td>176.000000</td>\n",
       "      <td>25.30</td>\n",
       "      <td>31.520741</td>\n",
       "    </tr>\n",
       "    <tr>\n",
       "      <th>health</th>\n",
       "      <td>10.292143</td>\n",
       "      <td>6.410842</td>\n",
       "      <td>6.793333</td>\n",
       "      <td>5.07</td>\n",
       "      <td>6.660185</td>\n",
       "    </tr>\n",
       "    <tr>\n",
       "      <th>imports</th>\n",
       "      <td>33.207143</td>\n",
       "      <td>44.488062</td>\n",
       "      <td>156.666667</td>\n",
       "      <td>17.40</td>\n",
       "      <td>49.111111</td>\n",
       "    </tr>\n",
       "    <tr>\n",
       "      <th>income</th>\n",
       "      <td>49721.428571</td>\n",
       "      <td>18582.000000</td>\n",
       "      <td>64033.333333</td>\n",
       "      <td>5150.00</td>\n",
       "      <td>3787.462963</td>\n",
       "    </tr>\n",
       "    <tr>\n",
       "      <th>inflation</th>\n",
       "      <td>2.093571</td>\n",
       "      <td>7.124495</td>\n",
       "      <td>2.468000</td>\n",
       "      <td>104.00</td>\n",
       "      <td>8.926389</td>\n",
       "    </tr>\n",
       "    <tr>\n",
       "      <th>life_expec</th>\n",
       "      <td>80.892857</td>\n",
       "      <td>74.478947</td>\n",
       "      <td>81.433333</td>\n",
       "      <td>60.50</td>\n",
       "      <td>60.555556</td>\n",
       "    </tr>\n",
       "    <tr>\n",
       "      <th>total_fer</th>\n",
       "      <td>1.800000</td>\n",
       "      <td>2.142000</td>\n",
       "      <td>1.380000</td>\n",
       "      <td>5.84</td>\n",
       "      <td>4.697037</td>\n",
       "    </tr>\n",
       "    <tr>\n",
       "      <th>gdpp</th>\n",
       "      <td>53742.857143</td>\n",
       "      <td>11941.473684</td>\n",
       "      <td>57566.666667</td>\n",
       "      <td>2330.00</td>\n",
       "      <td>1910.074074</td>\n",
       "    </tr>\n",
       "  </tbody>\n",
       "</table>\n",
       "</div>"
      ],
      "text/plain": [
       "cluster_complete             0             1             2        3  \\\n",
       "child_mort            4.500000     18.874737      4.133333   130.00   \n",
       "exports              39.392857     42.718726    176.000000    25.30   \n",
       "health               10.292143      6.410842      6.793333     5.07   \n",
       "imports              33.207143     44.488062    156.666667    17.40   \n",
       "income            49721.428571  18582.000000  64033.333333  5150.00   \n",
       "inflation             2.093571      7.124495      2.468000   104.00   \n",
       "life_expec           80.892857     74.478947     81.433333    60.50   \n",
       "total_fer             1.800000      2.142000      1.380000     5.84   \n",
       "gdpp              53742.857143  11941.473684  57566.666667  2330.00   \n",
       "\n",
       "cluster_complete            4  \n",
       "child_mort          81.344444  \n",
       "exports             31.520741  \n",
       "health               6.660185  \n",
       "imports             49.111111  \n",
       "income            3787.462963  \n",
       "inflation            8.926389  \n",
       "life_expec          60.555556  \n",
       "total_fer            4.697037  \n",
       "gdpp              1910.074074  "
      ]
     },
     "metadata": {},
     "output_type": "display_data"
    }
   ],
   "source": [
    "#%% Identificação das características dos clusters\n",
    "\n",
    "# Agrupando o banco de dados\n",
    "\n",
    "analise_paises = dados_paises.drop(columns=['country']).groupby(by=['cluster_complete'])\n",
    "\n",
    "# Estatísticas descritivas por grupo\n",
    "\n",
    "tab_medias_grupo = analise_paises.mean().T\n",
    "tab_desc_grupo = analise_paises.describe().T\n",
    "\n",
    "display(tab_medias_grupo)"
   ]
  },
  {
   "cell_type": "code",
   "execution_count": 78,
   "metadata": {},
   "outputs": [
    {
     "data": {
      "text/html": [
       "<div>\n",
       "<style scoped>\n",
       "    .dataframe tbody tr th:only-of-type {\n",
       "        vertical-align: middle;\n",
       "    }\n",
       "\n",
       "    .dataframe tbody tr th {\n",
       "        vertical-align: top;\n",
       "    }\n",
       "\n",
       "    .dataframe thead th {\n",
       "        text-align: right;\n",
       "    }\n",
       "</style>\n",
       "<table border=\"1\" class=\"dataframe\">\n",
       "  <thead>\n",
       "    <tr style=\"text-align: right;\">\n",
       "      <th></th>\n",
       "      <th>cluster_complete</th>\n",
       "      <th>0</th>\n",
       "      <th>1</th>\n",
       "      <th>2</th>\n",
       "      <th>3</th>\n",
       "      <th>4</th>\n",
       "    </tr>\n",
       "  </thead>\n",
       "  <tbody>\n",
       "    <tr>\n",
       "      <th rowspan=\"5\" valign=\"top\">child_mort</th>\n",
       "      <th>count</th>\n",
       "      <td>14.000000</td>\n",
       "      <td>95.000000</td>\n",
       "      <td>3.000000</td>\n",
       "      <td>1.0</td>\n",
       "      <td>54.000000</td>\n",
       "    </tr>\n",
       "    <tr>\n",
       "      <th>mean</th>\n",
       "      <td>4.500000</td>\n",
       "      <td>18.874737</td>\n",
       "      <td>4.133333</td>\n",
       "      <td>130.0</td>\n",
       "      <td>81.344444</td>\n",
       "    </tr>\n",
       "    <tr>\n",
       "      <th>std</th>\n",
       "      <td>1.781529</td>\n",
       "      <td>16.376170</td>\n",
       "      <td>2.309401</td>\n",
       "      <td>NaN</td>\n",
       "      <td>39.074325</td>\n",
       "    </tr>\n",
       "    <tr>\n",
       "      <th>min</th>\n",
       "      <td>2.600000</td>\n",
       "      <td>3.200000</td>\n",
       "      <td>2.800000</td>\n",
       "      <td>130.0</td>\n",
       "      <td>17.400000</td>\n",
       "    </tr>\n",
       "    <tr>\n",
       "      <th>25%</th>\n",
       "      <td>3.200000</td>\n",
       "      <td>7.700000</td>\n",
       "      <td>2.800000</td>\n",
       "      <td>130.0</td>\n",
       "      <td>54.275000</td>\n",
       "    </tr>\n",
       "    <tr>\n",
       "      <th>...</th>\n",
       "      <th>...</th>\n",
       "      <td>...</td>\n",
       "      <td>...</td>\n",
       "      <td>...</td>\n",
       "      <td>...</td>\n",
       "      <td>...</td>\n",
       "    </tr>\n",
       "    <tr>\n",
       "      <th rowspan=\"5\" valign=\"top\">gdpp</th>\n",
       "      <th>min</th>\n",
       "      <td>40600.000000</td>\n",
       "      <td>482.000000</td>\n",
       "      <td>21100.000000</td>\n",
       "      <td>2330.0</td>\n",
       "      <td>231.000000</td>\n",
       "    </tr>\n",
       "    <tr>\n",
       "      <th>25%</th>\n",
       "      <td>44925.000000</td>\n",
       "      <td>3885.000000</td>\n",
       "      <td>33850.000000</td>\n",
       "      <td>2330.0</td>\n",
       "      <td>566.000000</td>\n",
       "    </tr>\n",
       "    <tr>\n",
       "      <th>50%</th>\n",
       "      <td>47900.000000</td>\n",
       "      <td>8000.000000</td>\n",
       "      <td>46600.000000</td>\n",
       "      <td>2330.0</td>\n",
       "      <td>983.500000</td>\n",
       "    </tr>\n",
       "    <tr>\n",
       "      <th>75%</th>\n",
       "      <td>56525.000000</td>\n",
       "      <td>14050.000000</td>\n",
       "      <td>75800.000000</td>\n",
       "      <td>2330.0</td>\n",
       "      <td>2600.000000</td>\n",
       "    </tr>\n",
       "    <tr>\n",
       "      <th>max</th>\n",
       "      <td>87800.000000</td>\n",
       "      <td>50300.000000</td>\n",
       "      <td>105000.000000</td>\n",
       "      <td>2330.0</td>\n",
       "      <td>17100.000000</td>\n",
       "    </tr>\n",
       "  </tbody>\n",
       "</table>\n",
       "<p>72 rows × 5 columns</p>\n",
       "</div>"
      ],
      "text/plain": [
       "cluster_complete             0             1              2       3  \\\n",
       "child_mort count     14.000000     95.000000       3.000000     1.0   \n",
       "           mean       4.500000     18.874737       4.133333   130.0   \n",
       "           std        1.781529     16.376170       2.309401     NaN   \n",
       "           min        2.600000      3.200000       2.800000   130.0   \n",
       "           25%        3.200000      7.700000       2.800000   130.0   \n",
       "...                        ...           ...            ...     ...   \n",
       "gdpp       min    40600.000000    482.000000   21100.000000  2330.0   \n",
       "           25%    44925.000000   3885.000000   33850.000000  2330.0   \n",
       "           50%    47900.000000   8000.000000   46600.000000  2330.0   \n",
       "           75%    56525.000000  14050.000000   75800.000000  2330.0   \n",
       "           max    87800.000000  50300.000000  105000.000000  2330.0   \n",
       "\n",
       "cluster_complete             4  \n",
       "child_mort count     54.000000  \n",
       "           mean      81.344444  \n",
       "           std       39.074325  \n",
       "           min       17.400000  \n",
       "           25%       54.275000  \n",
       "...                        ...  \n",
       "gdpp       min      231.000000  \n",
       "           25%      566.000000  \n",
       "           50%      983.500000  \n",
       "           75%     2600.000000  \n",
       "           max    17100.000000  \n",
       "\n",
       "[72 rows x 5 columns]"
      ]
     },
     "metadata": {},
     "output_type": "display_data"
    }
   ],
   "source": [
    "display(tab_desc_grupo)"
   ]
  }
 ],
 "metadata": {
  "kernelspec": {
   "display_name": "base",
   "language": "python",
   "name": "python3"
  },
  "language_info": {
   "codemirror_mode": {
    "name": "ipython",
    "version": 3
   },
   "file_extension": ".py",
   "mimetype": "text/x-python",
   "name": "python",
   "nbconvert_exporter": "python",
   "pygments_lexer": "ipython3",
   "version": "3.11.5"
  }
 },
 "nbformat": 4,
 "nbformat_minor": 2
}
